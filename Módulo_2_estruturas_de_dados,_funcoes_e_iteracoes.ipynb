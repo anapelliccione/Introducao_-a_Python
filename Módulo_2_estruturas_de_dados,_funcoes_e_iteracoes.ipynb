{
  "nbformat": 4,
  "nbformat_minor": 0,
  "metadata": {
    "colab": {
      "provenance": [],
      "authorship_tag": "ABX9TyP5i96jC+G5UxmSOmaAE/uB",
      "include_colab_link": true
    },
    "kernelspec": {
      "name": "python3",
      "display_name": "Python 3"
    },
    "language_info": {
      "name": "python"
    }
  },
  "cells": [
    {
      "cell_type": "markdown",
      "metadata": {
        "id": "view-in-github",
        "colab_type": "text"
      },
      "source": [
        "<a href=\"https://colab.research.google.com/github/anapelliccione/Introducao_-a_Python/blob/main/M%C3%B3dulo_2_estruturas_de_dados%2C_funcoes_e_iteracoes.ipynb\" target=\"_parent\"><img src=\"https://colab.research.google.com/assets/colab-badge.svg\" alt=\"Open In Colab\"/></a>"
      ]
    },
    {
      "cell_type": "markdown",
      "source": [
        "## **Estruturas de dados**\n",
        "\n",
        "###Numeros\n",
        "\n",
        "Inteiros\n",
        "\n",
        "\n",
        "1.   int: 1234\n",
        "2.   bool: True ou False\n",
        "\n",
        "Reais\n",
        "\n",
        "\n",
        "1.   float: 0.1234 ou 1234e-4\n",
        "\n",
        "###Mappings\n",
        "\n",
        "dict\n",
        "\n",
        "\n",
        "1.   {\"chave\": \"valor\"}\n",
        "2.   dict(chave = \"valor\")\n",
        "\n",
        "###Sequences\n",
        "\n",
        "Immutable\n",
        "1. str: \"ola, mundo\" ou 'ola, mundo'\n",
        "2. tuple: separa por virgulas os objetos: (False, \"Um\", 2, 3.1)\n",
        "\n",
        "Mutable\n",
        "1. List: separa por virgulas os objetos (False, \"Um\", 2, 3.1)"
      ],
      "metadata": {
        "id": "kM2DKHFVXPhZ"
      }
    },
    {
      "cell_type": "markdown",
      "source": [
        "**Estruturas oferecidas por Numpy e Pandas**\n",
        "\n",
        "Numpy\n",
        "\n",
        "\n",
        "1.   ndarray: representacao vetorial de dados dentro da linguagem\n",
        "\n",
        "ex: np.array(1,2,3,4) \n",
        "\n",
        "Pandas\n",
        "\n",
        "\n",
        "1.   Series: representacao vetorial com indices\n",
        "    \n",
        "\n",
        "*   com listas: pd.Series([3,2,1])\n",
        "*   com dicionarios: pd.Series([\"a\": 1, \"b\": 2, \"c\": 3]). Isso signifiica que o valor 1 tem indice \"a\", o 2, \"b\" etc. Ou seja, com o diicionario, conseguimos nomear os indices \n",
        "\n",
        "\n",
        "\n",
        "2.   DataFrames: tabelas. Cada coluna é uma pada Series\n",
        "\n",
        "ex: pd.DataFrame({\"A\":[2,1], \"B\":[1,2]})\n",
        "\n",
        "3.   datetime64: representacao de tipo de dados para datas\n",
        "ex: pd.to_datetime([\"2022-01-18\"])"
      ],
      "metadata": {
        "id": "D4LT1x1JaLc0"
      }
    },
    {
      "cell_type": "markdown",
      "source": [
        "### Criando dados"
      ],
      "metadata": {
        "id": "33y4utZtgZyG"
      }
    },
    {
      "cell_type": "code",
      "source": [
        "#datetime\n",
        "import pandas as pd\n",
        "pd.to_datetime([\"2022-01-18\", \"18/01/2022\"])"
      ],
      "metadata": {
        "colab": {
          "base_uri": "https://localhost:8080/"
        },
        "id": "GTN3wzFnfMzA",
        "outputId": "48acc2d5-5a51-47fb-ed31-4f06e87620ff"
      },
      "execution_count": null,
      "outputs": [
        {
          "output_type": "stream",
          "name": "stderr",
          "text": [
            "<ipython-input-1-bbdda8a793d6>:3: UserWarning: Parsing dates in DD/MM/YYYY format when dayfirst=False (the default) was specified. This may lead to inconsistently parsed dates! Specify a format to ensure consistent parsing.\n",
            "  pd.to_datetime([\"2022-01-18\", \"18/01/2022\"])\n"
          ]
        },
        {
          "output_type": "execute_result",
          "data": {
            "text/plain": [
              "DatetimeIndex(['2022-01-18', '2022-01-18'], dtype='datetime64[ns]', freq=None)"
            ]
          },
          "metadata": {},
          "execution_count": 1
        }
      ]
    },
    {
      "cell_type": "code",
      "source": [
        "#list\n",
        "lista = [1, \"A\", True, [1, 2, 3, 4]]\n",
        "lista"
      ],
      "metadata": {
        "colab": {
          "base_uri": "https://localhost:8080/"
        },
        "id": "L1nYVlLmgh2l",
        "outputId": "a44c679c-2517-4d63-8e0c-161f13ad2dfd"
      },
      "execution_count": null,
      "outputs": [
        {
          "output_type": "execute_result",
          "data": {
            "text/plain": [
              "[1, 'A', True, [1, 2, 3, 4]]"
            ]
          },
          "metadata": {},
          "execution_count": 71
        }
      ]
    },
    {
      "cell_type": "code",
      "source": [
        "#tuple\n",
        "tupla = (1, \"A\", True)\n",
        "tupla"
      ],
      "metadata": {
        "colab": {
          "base_uri": "https://localhost:8080/"
        },
        "id": "4DLvJHwug4w0",
        "outputId": "4e268d58-2cd0-4db8-a5f3-d2bab7374e93"
      },
      "execution_count": null,
      "outputs": [
        {
          "output_type": "execute_result",
          "data": {
            "text/plain": [
              "(1, 'A', True)"
            ]
          },
          "metadata": {},
          "execution_count": 73
        }
      ]
    },
    {
      "cell_type": "code",
      "source": [
        "#dict\n",
        "dicionario = {\"nome\": \"vivi\", \"idade\": 28, \"sexo_feminino\": True}\n",
        "dicionario"
      ],
      "metadata": {
        "colab": {
          "base_uri": "https://localhost:8080/"
        },
        "id": "za7OUi6thGMd",
        "outputId": "e68ca16c-82f3-4db3-d96c-5ddfcdce2cad"
      },
      "execution_count": null,
      "outputs": [
        {
          "output_type": "execute_result",
          "data": {
            "text/plain": [
              "{'nome': 'vivi', 'idade': 28, 'sexo_feminino': True}"
            ]
          },
          "metadata": {},
          "execution_count": 7
        }
      ]
    },
    {
      "cell_type": "code",
      "source": [
        "#array\n",
        "import numpy as np\n",
        "\n",
        "## uma dimensao\n",
        "print(np.array([1, 2, 3, 4]))"
      ],
      "metadata": {
        "colab": {
          "base_uri": "https://localhost:8080/"
        },
        "id": "h9jYgz3YiCx5",
        "outputId": "59350bd1-eeca-4d2a-cfd3-ed060efb586e"
      },
      "execution_count": null,
      "outputs": [
        {
          "output_type": "stream",
          "name": "stdout",
          "text": [
            "[1 2 3 4]\n"
          ]
        }
      ]
    },
    {
      "cell_type": "code",
      "source": [
        "## duas dimensoes\n",
        "print(np.array([[1, 2, 3], [\"a\", \"b\", \"c\"]]))"
      ],
      "metadata": {
        "colab": {
          "base_uri": "https://localhost:8080/"
        },
        "id": "_h-1OH_qipEu",
        "outputId": "dc1a2d5b-67a7-4c1f-8f01-fd9903017c9d"
      },
      "execution_count": null,
      "outputs": [
        {
          "output_type": "stream",
          "name": "stdout",
          "text": [
            "[['1' '2' '3']\n",
            " ['a' 'b' 'c']]\n"
          ]
        }
      ]
    },
    {
      "cell_type": "code",
      "source": [
        "#Series\n",
        "##com arrays\n",
        "pd.Series(np.array([1, 2, 3, 4]))"
      ],
      "metadata": {
        "colab": {
          "base_uri": "https://localhost:8080/"
        },
        "id": "Eqm2RrQ5jB-H",
        "outputId": "90d6ca51-37ec-4108-c844-9f9c61d556c4"
      },
      "execution_count": null,
      "outputs": [
        {
          "output_type": "execute_result",
          "data": {
            "text/plain": [
              "0    1\n",
              "1    2\n",
              "2    3\n",
              "3    4\n",
              "dtype: int64"
            ]
          },
          "metadata": {},
          "execution_count": 15
        }
      ]
    },
    {
      "cell_type": "code",
      "source": [
        "##com lista\n",
        "pd.Series([1, 2, 3, 4])"
      ],
      "metadata": {
        "colab": {
          "base_uri": "https://localhost:8080/"
        },
        "id": "-iU2QIWFjq24",
        "outputId": "df84e762-8d50-4ed6-e5ac-eb72de2d1e2e"
      },
      "execution_count": null,
      "outputs": [
        {
          "output_type": "execute_result",
          "data": {
            "text/plain": [
              "0    1\n",
              "1    2\n",
              "2    3\n",
              "3    4\n",
              "dtype: int64"
            ]
          },
          "metadata": {},
          "execution_count": 16
        }
      ]
    },
    {
      "cell_type": "code",
      "source": [
        "##com dicionario\n",
        "pd.Series({\"a\":1, \"b\":2})"
      ],
      "metadata": {
        "colab": {
          "base_uri": "https://localhost:8080/"
        },
        "id": "PJ3gcbnKj5do",
        "outputId": "8d71b106-b712-4fcb-fdc4-e86be73cd9b3"
      },
      "execution_count": null,
      "outputs": [
        {
          "output_type": "execute_result",
          "data": {
            "text/plain": [
              "a    1\n",
              "b    2\n",
              "dtype: int64"
            ]
          },
          "metadata": {},
          "execution_count": 17
        }
      ]
    },
    {
      "cell_type": "code",
      "source": [
        "#DataFrame\n",
        "##com dicionario\n",
        "tabela = pd.DataFrame(\n",
        "    {\"coluna_A\": [\"a\", \"b\", \"c\"], \n",
        "     \"coluna_B\": [1,2,3], \n",
        "     \"coluna_C\": [True, True, False],\n",
        "     \"coluna_D\": pd.to_datetime([\"2022-01-18\", \"18/1/2022\", \"18/01/2022\"])})\n",
        "\n",
        "tabela"
      ],
      "metadata": {
        "colab": {
          "base_uri": "https://localhost:8080/",
          "height": 198
        },
        "id": "I8shQNgskPJa",
        "outputId": "c92fe633-818d-416f-c1fa-04059be5c036"
      },
      "execution_count": null,
      "outputs": [
        {
          "output_type": "stream",
          "name": "stderr",
          "text": [
            "<ipython-input-38-e2229244633d>:7: UserWarning: Parsing dates in DD/MM/YYYY format when dayfirst=False (the default) was specified. This may lead to inconsistently parsed dates! Specify a format to ensure consistent parsing.\n",
            "  \"coluna_D\": pd.to_datetime([\"2022-01-18\", \"18/1/2022\", \"18/01/2022\"])})\n"
          ]
        },
        {
          "output_type": "execute_result",
          "data": {
            "text/plain": [
              "  coluna_A  coluna_B  coluna_C   coluna_D\n",
              "0        a         1      True 2022-01-18\n",
              "1        b         2      True 2022-01-18\n",
              "2        c         3     False 2022-01-18"
            ],
            "text/html": [
              "\n",
              "  <div id=\"df-3234bd82-8dc0-47f6-bf42-8ea5764afa8c\">\n",
              "    <div class=\"colab-df-container\">\n",
              "      <div>\n",
              "<style scoped>\n",
              "    .dataframe tbody tr th:only-of-type {\n",
              "        vertical-align: middle;\n",
              "    }\n",
              "\n",
              "    .dataframe tbody tr th {\n",
              "        vertical-align: top;\n",
              "    }\n",
              "\n",
              "    .dataframe thead th {\n",
              "        text-align: right;\n",
              "    }\n",
              "</style>\n",
              "<table border=\"1\" class=\"dataframe\">\n",
              "  <thead>\n",
              "    <tr style=\"text-align: right;\">\n",
              "      <th></th>\n",
              "      <th>coluna_A</th>\n",
              "      <th>coluna_B</th>\n",
              "      <th>coluna_C</th>\n",
              "      <th>coluna_D</th>\n",
              "    </tr>\n",
              "  </thead>\n",
              "  <tbody>\n",
              "    <tr>\n",
              "      <th>0</th>\n",
              "      <td>a</td>\n",
              "      <td>1</td>\n",
              "      <td>True</td>\n",
              "      <td>2022-01-18</td>\n",
              "    </tr>\n",
              "    <tr>\n",
              "      <th>1</th>\n",
              "      <td>b</td>\n",
              "      <td>2</td>\n",
              "      <td>True</td>\n",
              "      <td>2022-01-18</td>\n",
              "    </tr>\n",
              "    <tr>\n",
              "      <th>2</th>\n",
              "      <td>c</td>\n",
              "      <td>3</td>\n",
              "      <td>False</td>\n",
              "      <td>2022-01-18</td>\n",
              "    </tr>\n",
              "  </tbody>\n",
              "</table>\n",
              "</div>\n",
              "      <button class=\"colab-df-convert\" onclick=\"convertToInteractive('df-3234bd82-8dc0-47f6-bf42-8ea5764afa8c')\"\n",
              "              title=\"Convert this dataframe to an interactive table.\"\n",
              "              style=\"display:none;\">\n",
              "        \n",
              "  <svg xmlns=\"http://www.w3.org/2000/svg\" height=\"24px\"viewBox=\"0 0 24 24\"\n",
              "       width=\"24px\">\n",
              "    <path d=\"M0 0h24v24H0V0z\" fill=\"none\"/>\n",
              "    <path d=\"M18.56 5.44l.94 2.06.94-2.06 2.06-.94-2.06-.94-.94-2.06-.94 2.06-2.06.94zm-11 1L8.5 8.5l.94-2.06 2.06-.94-2.06-.94L8.5 2.5l-.94 2.06-2.06.94zm10 10l.94 2.06.94-2.06 2.06-.94-2.06-.94-.94-2.06-.94 2.06-2.06.94z\"/><path d=\"M17.41 7.96l-1.37-1.37c-.4-.4-.92-.59-1.43-.59-.52 0-1.04.2-1.43.59L10.3 9.45l-7.72 7.72c-.78.78-.78 2.05 0 2.83L4 21.41c.39.39.9.59 1.41.59.51 0 1.02-.2 1.41-.59l7.78-7.78 2.81-2.81c.8-.78.8-2.07 0-2.86zM5.41 20L4 18.59l7.72-7.72 1.47 1.35L5.41 20z\"/>\n",
              "  </svg>\n",
              "      </button>\n",
              "      \n",
              "  <style>\n",
              "    .colab-df-container {\n",
              "      display:flex;\n",
              "      flex-wrap:wrap;\n",
              "      gap: 12px;\n",
              "    }\n",
              "\n",
              "    .colab-df-convert {\n",
              "      background-color: #E8F0FE;\n",
              "      border: none;\n",
              "      border-radius: 50%;\n",
              "      cursor: pointer;\n",
              "      display: none;\n",
              "      fill: #1967D2;\n",
              "      height: 32px;\n",
              "      padding: 0 0 0 0;\n",
              "      width: 32px;\n",
              "    }\n",
              "\n",
              "    .colab-df-convert:hover {\n",
              "      background-color: #E2EBFA;\n",
              "      box-shadow: 0px 1px 2px rgba(60, 64, 67, 0.3), 0px 1px 3px 1px rgba(60, 64, 67, 0.15);\n",
              "      fill: #174EA6;\n",
              "    }\n",
              "\n",
              "    [theme=dark] .colab-df-convert {\n",
              "      background-color: #3B4455;\n",
              "      fill: #D2E3FC;\n",
              "    }\n",
              "\n",
              "    [theme=dark] .colab-df-convert:hover {\n",
              "      background-color: #434B5C;\n",
              "      box-shadow: 0px 1px 3px 1px rgba(0, 0, 0, 0.15);\n",
              "      filter: drop-shadow(0px 1px 2px rgba(0, 0, 0, 0.3));\n",
              "      fill: #FFFFFF;\n",
              "    }\n",
              "  </style>\n",
              "\n",
              "      <script>\n",
              "        const buttonEl =\n",
              "          document.querySelector('#df-3234bd82-8dc0-47f6-bf42-8ea5764afa8c button.colab-df-convert');\n",
              "        buttonEl.style.display =\n",
              "          google.colab.kernel.accessAllowed ? 'block' : 'none';\n",
              "\n",
              "        async function convertToInteractive(key) {\n",
              "          const element = document.querySelector('#df-3234bd82-8dc0-47f6-bf42-8ea5764afa8c');\n",
              "          const dataTable =\n",
              "            await google.colab.kernel.invokeFunction('convertToInteractive',\n",
              "                                                     [key], {});\n",
              "          if (!dataTable) return;\n",
              "\n",
              "          const docLinkHtml = 'Like what you see? Visit the ' +\n",
              "            '<a target=\"_blank\" href=https://colab.research.google.com/notebooks/data_table.ipynb>data table notebook</a>'\n",
              "            + ' to learn more about interactive tables.';\n",
              "          element.innerHTML = '';\n",
              "          dataTable['output_type'] = 'display_data';\n",
              "          await google.colab.output.renderOutput(dataTable, element);\n",
              "          const docLink = document.createElement('div');\n",
              "          docLink.innerHTML = docLinkHtml;\n",
              "          element.appendChild(docLink);\n",
              "        }\n",
              "      </script>\n",
              "    </div>\n",
              "  </div>\n",
              "  "
            ]
          },
          "metadata": {},
          "execution_count": 38
        }
      ]
    },
    {
      "cell_type": "markdown",
      "source": [
        "### Acessando elementos das estruturas de dados (slicing)"
      ],
      "metadata": {
        "id": "HIx71QB6luIF"
      }
    },
    {
      "cell_type": "code",
      "source": [
        "#acessando um elemento de um string\n",
        "\"Palavra\"[0:2]\n",
        "#acessando o ultimo item\n",
        "\"Palavra\"[-1]"
      ],
      "metadata": {
        "colab": {
          "base_uri": "https://localhost:8080/",
          "height": 35
        },
        "id": "uB3Oi1e2l2aU",
        "outputId": "5a482f98-686c-45d4-ec33-b6c3c2704b19"
      },
      "execution_count": null,
      "outputs": [
        {
          "output_type": "execute_result",
          "data": {
            "text/plain": [
              "'a'"
            ],
            "application/vnd.google.colaboratory.intrinsic+json": {
              "type": "string"
            }
          },
          "metadata": {},
          "execution_count": 26
        }
      ]
    },
    {
      "cell_type": "code",
      "source": [
        "#acessando um elemento de uma lista (já criada acima, \"lista\")\n",
        "lista[-1]\n",
        "#acessando um elemento de uma lista dentro de outra lista\n",
        "lista[-1][2]\n",
        "#acessando um intervalor da lista\n",
        "lista[0:2]"
      ],
      "metadata": {
        "colab": {
          "base_uri": "https://localhost:8080/"
        },
        "id": "gNeP-pc-nVwV",
        "outputId": "0c9e2b42-d8cb-4662-fb63-7f69538e8b3e"
      },
      "execution_count": null,
      "outputs": [
        {
          "output_type": "execute_result",
          "data": {
            "text/plain": [
              "(1, 'A')"
            ]
          },
          "metadata": {},
          "execution_count": 30
        }
      ]
    },
    {
      "cell_type": "code",
      "source": [
        "#acessando um elemento de uma tupla (já criada acima, \"tupla\")\n",
        "tupla[0:3]"
      ],
      "metadata": {
        "colab": {
          "base_uri": "https://localhost:8080/"
        },
        "id": "x_FCw_VWoH34",
        "outputId": "5a208664-f6e4-4922-8fbb-fed0edaf3c9b"
      },
      "execution_count": null,
      "outputs": [
        {
          "output_type": "execute_result",
          "data": {
            "text/plain": [
              "(1, 'A', True)"
            ]
          },
          "metadata": {},
          "execution_count": 32
        }
      ]
    },
    {
      "cell_type": "code",
      "source": [
        "#acessando um elemento de um DataFrame (já criado acima, \"tabela\")\n",
        "\n",
        "##acessando coluna\n",
        "tabela[\"coluna_A\"] #acessa a coluna pelo nome (retorna Series)\n",
        "tabela[[\"coluna_A\"]] #(retorna um DataFrame)\n",
        "tabela[[\"coluna_A\", \"coluna_B\"]]\n",
        "\n",
        "##acessando linhas e colunas\n",
        "tabela.iloc[[0]]\n",
        "tabela.iloc[0:2]\n",
        "\n",
        "#acessando linhas e colunas simultaneamente: por exemplo, linha 1 coluna 2\n",
        "tabela.iloc[0:2, 0:2]\n",
        "tabela.iloc[0,0]\n",
        "#acessando linhas e colunas, mas com um intervalo alternado de colunas\n",
        "tabela.iloc[0:2, [0,2,3]]\n",
        "\n",
        "#acessando via labels\n",
        "tabela.loc[[0]]"
      ],
      "metadata": {
        "colab": {
          "base_uri": "https://localhost:8080/",
          "height": 80
        },
        "id": "60mmSDicoVh3",
        "outputId": "4d43f187-068c-4b36-f697-0d85d71c4681"
      },
      "execution_count": null,
      "outputs": [
        {
          "output_type": "execute_result",
          "data": {
            "text/plain": [
              "  coluna_A  coluna_B  coluna_C   coluna_D\n",
              "0        a         1      True 2022-01-18"
            ],
            "text/html": [
              "\n",
              "  <div id=\"df-fbc70ecf-e9cb-48e5-b7e8-0f459ba8bd21\">\n",
              "    <div class=\"colab-df-container\">\n",
              "      <div>\n",
              "<style scoped>\n",
              "    .dataframe tbody tr th:only-of-type {\n",
              "        vertical-align: middle;\n",
              "    }\n",
              "\n",
              "    .dataframe tbody tr th {\n",
              "        vertical-align: top;\n",
              "    }\n",
              "\n",
              "    .dataframe thead th {\n",
              "        text-align: right;\n",
              "    }\n",
              "</style>\n",
              "<table border=\"1\" class=\"dataframe\">\n",
              "  <thead>\n",
              "    <tr style=\"text-align: right;\">\n",
              "      <th></th>\n",
              "      <th>coluna_A</th>\n",
              "      <th>coluna_B</th>\n",
              "      <th>coluna_C</th>\n",
              "      <th>coluna_D</th>\n",
              "    </tr>\n",
              "  </thead>\n",
              "  <tbody>\n",
              "    <tr>\n",
              "      <th>0</th>\n",
              "      <td>a</td>\n",
              "      <td>1</td>\n",
              "      <td>True</td>\n",
              "      <td>2022-01-18</td>\n",
              "    </tr>\n",
              "  </tbody>\n",
              "</table>\n",
              "</div>\n",
              "      <button class=\"colab-df-convert\" onclick=\"convertToInteractive('df-fbc70ecf-e9cb-48e5-b7e8-0f459ba8bd21')\"\n",
              "              title=\"Convert this dataframe to an interactive table.\"\n",
              "              style=\"display:none;\">\n",
              "        \n",
              "  <svg xmlns=\"http://www.w3.org/2000/svg\" height=\"24px\"viewBox=\"0 0 24 24\"\n",
              "       width=\"24px\">\n",
              "    <path d=\"M0 0h24v24H0V0z\" fill=\"none\"/>\n",
              "    <path d=\"M18.56 5.44l.94 2.06.94-2.06 2.06-.94-2.06-.94-.94-2.06-.94 2.06-2.06.94zm-11 1L8.5 8.5l.94-2.06 2.06-.94-2.06-.94L8.5 2.5l-.94 2.06-2.06.94zm10 10l.94 2.06.94-2.06 2.06-.94-2.06-.94-.94-2.06-.94 2.06-2.06.94z\"/><path d=\"M17.41 7.96l-1.37-1.37c-.4-.4-.92-.59-1.43-.59-.52 0-1.04.2-1.43.59L10.3 9.45l-7.72 7.72c-.78.78-.78 2.05 0 2.83L4 21.41c.39.39.9.59 1.41.59.51 0 1.02-.2 1.41-.59l7.78-7.78 2.81-2.81c.8-.78.8-2.07 0-2.86zM5.41 20L4 18.59l7.72-7.72 1.47 1.35L5.41 20z\"/>\n",
              "  </svg>\n",
              "      </button>\n",
              "      \n",
              "  <style>\n",
              "    .colab-df-container {\n",
              "      display:flex;\n",
              "      flex-wrap:wrap;\n",
              "      gap: 12px;\n",
              "    }\n",
              "\n",
              "    .colab-df-convert {\n",
              "      background-color: #E8F0FE;\n",
              "      border: none;\n",
              "      border-radius: 50%;\n",
              "      cursor: pointer;\n",
              "      display: none;\n",
              "      fill: #1967D2;\n",
              "      height: 32px;\n",
              "      padding: 0 0 0 0;\n",
              "      width: 32px;\n",
              "    }\n",
              "\n",
              "    .colab-df-convert:hover {\n",
              "      background-color: #E2EBFA;\n",
              "      box-shadow: 0px 1px 2px rgba(60, 64, 67, 0.3), 0px 1px 3px 1px rgba(60, 64, 67, 0.15);\n",
              "      fill: #174EA6;\n",
              "    }\n",
              "\n",
              "    [theme=dark] .colab-df-convert {\n",
              "      background-color: #3B4455;\n",
              "      fill: #D2E3FC;\n",
              "    }\n",
              "\n",
              "    [theme=dark] .colab-df-convert:hover {\n",
              "      background-color: #434B5C;\n",
              "      box-shadow: 0px 1px 3px 1px rgba(0, 0, 0, 0.15);\n",
              "      filter: drop-shadow(0px 1px 2px rgba(0, 0, 0, 0.3));\n",
              "      fill: #FFFFFF;\n",
              "    }\n",
              "  </style>\n",
              "\n",
              "      <script>\n",
              "        const buttonEl =\n",
              "          document.querySelector('#df-fbc70ecf-e9cb-48e5-b7e8-0f459ba8bd21 button.colab-df-convert');\n",
              "        buttonEl.style.display =\n",
              "          google.colab.kernel.accessAllowed ? 'block' : 'none';\n",
              "\n",
              "        async function convertToInteractive(key) {\n",
              "          const element = document.querySelector('#df-fbc70ecf-e9cb-48e5-b7e8-0f459ba8bd21');\n",
              "          const dataTable =\n",
              "            await google.colab.kernel.invokeFunction('convertToInteractive',\n",
              "                                                     [key], {});\n",
              "          if (!dataTable) return;\n",
              "\n",
              "          const docLinkHtml = 'Like what you see? Visit the ' +\n",
              "            '<a target=\"_blank\" href=https://colab.research.google.com/notebooks/data_table.ipynb>data table notebook</a>'\n",
              "            + ' to learn more about interactive tables.';\n",
              "          element.innerHTML = '';\n",
              "          dataTable['output_type'] = 'display_data';\n",
              "          await google.colab.output.renderOutput(dataTable, element);\n",
              "          const docLink = document.createElement('div');\n",
              "          docLink.innerHTML = docLinkHtml;\n",
              "          element.appendChild(docLink);\n",
              "        }\n",
              "      </script>\n",
              "    </div>\n",
              "  </div>\n",
              "  "
            ]
          },
          "metadata": {},
          "execution_count": 58
        }
      ]
    },
    {
      "cell_type": "markdown",
      "source": [
        "### Tamanho de objetos"
      ],
      "metadata": {
        "id": "mV3cYQWMstwB"
      }
    },
    {
      "cell_type": "code",
      "source": [
        "#de strings\n",
        "len(\"ola, mundo!\")"
      ],
      "metadata": {
        "colab": {
          "base_uri": "https://localhost:8080/"
        },
        "id": "G80dkROss3Ka",
        "outputId": "f78ecf87-f3db-4fda-c2a4-59d1031c314a"
      },
      "execution_count": null,
      "outputs": [
        {
          "output_type": "execute_result",
          "data": {
            "text/plain": [
              "11"
            ]
          },
          "metadata": {},
          "execution_count": 60
        }
      ]
    },
    {
      "cell_type": "code",
      "source": [
        "#de listas\n",
        "len([\"ola, mundo\", 1234])"
      ],
      "metadata": {
        "colab": {
          "base_uri": "https://localhost:8080/"
        },
        "id": "1D0rcefVtBs-",
        "outputId": "c18ce899-b5d5-4112-bf4f-8c1b5b106566"
      },
      "execution_count": null,
      "outputs": [
        {
          "output_type": "execute_result",
          "data": {
            "text/plain": [
              "2"
            ]
          },
          "metadata": {},
          "execution_count": 62
        }
      ]
    },
    {
      "cell_type": "code",
      "source": [
        "#de tuplas\n",
        "len((\"ola, mundo\", True))"
      ],
      "metadata": {
        "colab": {
          "base_uri": "https://localhost:8080/"
        },
        "id": "NtAbt-wGtPhu",
        "outputId": "8bd30002-55e9-4999-ca5d-aca837c0dbae"
      },
      "execution_count": null,
      "outputs": [
        {
          "output_type": "execute_result",
          "data": {
            "text/plain": [
              "2"
            ]
          },
          "metadata": {},
          "execution_count": 67
        }
      ]
    },
    {
      "cell_type": "code",
      "source": [
        "#de dict\n",
        "len({\"nome\": \"vivi\", \"idade\": 28, \"sexo_feminino\": True})"
      ],
      "metadata": {
        "colab": {
          "base_uri": "https://localhost:8080/"
        },
        "id": "wUbEghcMte4b",
        "outputId": "285759a6-c04b-4464-96e6-fc76fd37676b"
      },
      "execution_count": null,
      "outputs": [
        {
          "output_type": "execute_result",
          "data": {
            "text/plain": [
              "3"
            ]
          },
          "metadata": {},
          "execution_count": 65
        }
      ]
    },
    {
      "cell_type": "markdown",
      "source": [
        "### Obtendo informações de um DataFrame"
      ],
      "metadata": {
        "id": "e7UHCFnoumFI"
      }
    },
    {
      "cell_type": "code",
      "source": [
        "tabela.info()"
      ],
      "metadata": {
        "colab": {
          "base_uri": "https://localhost:8080/"
        },
        "id": "ftB0QX4kuruX",
        "outputId": "6918ffb7-01ef-49ce-f7b5-0992af647d94"
      },
      "execution_count": null,
      "outputs": [
        {
          "output_type": "stream",
          "name": "stdout",
          "text": [
            "<class 'pandas.core.frame.DataFrame'>\n",
            "RangeIndex: 3 entries, 0 to 2\n",
            "Data columns (total 4 columns):\n",
            " #   Column    Non-Null Count  Dtype         \n",
            "---  ------    --------------  -----         \n",
            " 0   coluna_A  3 non-null      object        \n",
            " 1   coluna_B  3 non-null      int64         \n",
            " 2   coluna_C  3 non-null      bool          \n",
            " 3   coluna_D  3 non-null      datetime64[ns]\n",
            "dtypes: bool(1), datetime64[ns](1), int64(1), object(1)\n",
            "memory usage: 203.0+ bytes\n"
          ]
        }
      ]
    },
    {
      "cell_type": "markdown",
      "source": [
        "### Operadores de comparação, lógicos e outros operadores\n",
        "\n",
        "Comparação\n",
        "\n",
        "1. : > maior que\n",
        "2. : < maior que\n",
        "3. : == igual a \n",
        "4. : != diferente de\n",
        "5. : >= maior ou igual a \n",
        "6. : <= menor ou igual a\n",
        "\n",
        "Lógicos\n",
        "\n",
        "1. and: compara 2 expressões e, se ambas forem verdadeiras, retorna True\n",
        "2. or: compara 2 expressões e, se alguma for verdadeira, retorna True\n",
        "3. not: operador de negação. Retorna o contrário de uma expressão lógica\n",
        "\n",
        "Outros\n",
        "1. =: Operador de atribuição. Ex: meu_objeto = 10\n",
        "2. is: testa se 2 expressões têm a mesma identidade e retorna True em caso positivo. \n",
        "3. is not: testa se 2 expressões não têm a mesma identidade e retorna True em caso positivo. \n",
        "4. in: retorna True se um valor é um elemento de um objeto\n",
        "5. not in: retorna a negação de in"
      ],
      "metadata": {
        "id": "BSRMb_Bqm0Cc"
      }
    },
    {
      "cell_type": "code",
      "source": [
        "#ex. de \"and\"\n",
        "#a função isinstance verifica o que estamos pedindo (no caso, se 6 é inteiro).\n",
        "#Ou seja, desejamos verificar se 6 é maior que 0 E se é inteiro. Se ambas forem verdadeiros, retornará true.\n",
        "#Serve, por exemplo, se precisarmos fazer um filtro numa tabela com duas condições \n",
        "6>0 and isinstance(6,int)"
      ],
      "metadata": {
        "colab": {
          "base_uri": "https://localhost:8080/"
        },
        "id": "6cHR5LTDo1ty",
        "outputId": "b012a591-c423-4b51-b993-9a529b724165"
      },
      "execution_count": null,
      "outputs": [
        {
          "output_type": "execute_result",
          "data": {
            "text/plain": [
              "True"
            ]
          },
          "metadata": {},
          "execution_count": 1
        }
      ]
    },
    {
      "cell_type": "code",
      "source": [
        "#ex. de \"or\"\n",
        "6==0 or isinstance(6,int)"
      ],
      "metadata": {
        "colab": {
          "base_uri": "https://localhost:8080/"
        },
        "id": "WXK6v6trpp3i",
        "outputId": "f3cb2b2e-95c5-464d-d86d-590f179248f6"
      },
      "execution_count": null,
      "outputs": [
        {
          "output_type": "execute_result",
          "data": {
            "text/plain": [
              "True"
            ]
          },
          "metadata": {},
          "execution_count": 2
        }
      ]
    },
    {
      "cell_type": "code",
      "source": [
        "#ex. de not\n",
        "#retorna o contrario do resultado da expressão à frente dele \n",
        "not 6>0"
      ],
      "metadata": {
        "colab": {
          "base_uri": "https://localhost:8080/"
        },
        "id": "PfyeW5A6p34Q",
        "outputId": "d9127f23-a32b-4407-d7d3-6ce6e74a9576"
      },
      "execution_count": null,
      "outputs": [
        {
          "output_type": "execute_result",
          "data": {
            "text/plain": [
              "False"
            ]
          },
          "metadata": {},
          "execution_count": 3
        }
      ]
    },
    {
      "cell_type": "code",
      "source": [
        "#ex. de \"is\": identifica se 2 expressoes têm a msm identidade (mesmo endereço na memória ram)\n",
        "x = 1234; y = 1234;\n",
        "print(x == y)\n",
        "print(x is y) #ou seja, apesar de x ter o mesmo valor de y, não tem a mesma identidade. Por isso, retorna False\n",
        "#obs: mas só retorna False a partir de 4 digitos. Se tiver menos que isso, ele entenderia como de mesma identidade\n",
        "\n",
        "#a identidade (o endereço na mempria ram é identificável via a funcao id) \n",
        "print(id(x))\n",
        "print(id(y))\n",
        "\n",
        "#ex. de \"is not\"\n",
        "print(x is not y)"
      ],
      "metadata": {
        "colab": {
          "base_uri": "https://localhost:8080/"
        },
        "id": "cDF_MoxSqxG_",
        "outputId": "74736f53-0e88-4975-895e-34dae1a443f3"
      },
      "execution_count": null,
      "outputs": [
        {
          "output_type": "stream",
          "name": "stdout",
          "text": [
            "True\n",
            "False\n",
            "139938562531696\n",
            "139938562532560\n",
            "True\n"
          ]
        }
      ]
    },
    {
      "cell_type": "code",
      "source": [
        "#ex. de in:\n",
        "#testando em lista e tupla\n",
        "2 in [1,2,3]; 2 in (1,2,3)\n",
        "#testando em dicionario\n",
        "\"b\" in {\"a\":1, \"b\":2, \"c\":3}\n",
        "#testando em strings\n",
        "\"b\" in \"abc\""
      ],
      "metadata": {
        "colab": {
          "base_uri": "https://localhost:8080/"
        },
        "id": "4QNgheLhsxtD",
        "outputId": "2dbebd5e-ba8c-4c6b-f3e8-4d50a5f2b77d"
      },
      "execution_count": null,
      "outputs": [
        {
          "output_type": "execute_result",
          "data": {
            "text/plain": [
              "True"
            ]
          },
          "metadata": {},
          "execution_count": 9
        }
      ]
    },
    {
      "cell_type": "markdown",
      "source": [
        "### Operadores aritmeticos\n",
        "\n",
        "Para operacoes matriciais, consular help(\"EXPRESSIONS\")"
      ],
      "metadata": {
        "id": "2A335YRP0oHw"
      }
    },
    {
      "cell_type": "code",
      "source": [
        "#exponenciação\n",
        "2**3"
      ],
      "metadata": {
        "colab": {
          "base_uri": "https://localhost:8080/"
        },
        "id": "CVpWHxgV1LwN",
        "outputId": "2418567d-5ceb-4ff7-b11f-cf2eb7f4d5f3"
      },
      "execution_count": null,
      "outputs": [
        {
          "output_type": "execute_result",
          "data": {
            "text/plain": [
              "8"
            ]
          },
          "metadata": {},
          "execution_count": 10
        }
      ]
    },
    {
      "cell_type": "code",
      "source": [
        "#resto da divisao\n",
        "6%3"
      ],
      "metadata": {
        "colab": {
          "base_uri": "https://localhost:8080/"
        },
        "id": "A-Yj57jb1jdV",
        "outputId": "60e97e88-3e03-4b33-f55f-3aeba971621a"
      },
      "execution_count": null,
      "outputs": [
        {
          "output_type": "execute_result",
          "data": {
            "text/plain": [
              "0"
            ]
          },
          "metadata": {},
          "execution_count": 11
        }
      ]
    },
    {
      "cell_type": "code",
      "source": [
        "#quociente da divisao\n",
        "6//3"
      ],
      "metadata": {
        "colab": {
          "base_uri": "https://localhost:8080/"
        },
        "id": "6uWHLrh-1nN9",
        "outputId": "03326f67-9bce-4ca1-c91e-e207616eb8da"
      },
      "execution_count": null,
      "outputs": [
        {
          "output_type": "execute_result",
          "data": {
            "text/plain": [
              "2"
            ]
          },
          "metadata": {},
          "execution_count": 12
        }
      ]
    },
    {
      "cell_type": "code",
      "source": [
        "#Para operacoes matriciais\n",
        "help(\"EXPRESSIONS\")"
      ],
      "metadata": {
        "id": "cuvdzOUD1zQV"
      },
      "execution_count": null,
      "outputs": []
    },
    {
      "cell_type": "markdown",
      "source": [
        "### Funcoes\n",
        "Tem dois componentes:\n",
        "\n",
        "1.   argumentos\n",
        "2.   corpo: codigo encapsulado na caixinha"
      ],
      "metadata": {
        "id": "554ZrNmT4BE-"
      }
    },
    {
      "cell_type": "code",
      "source": [
        "#ex. de funcao\n",
        "#to_datetime: transforma o formato de data. No \"format\" colocaremos a string representativa do formato atual\n",
        "import pandas as pd\n",
        "\n",
        "pd.to_datetime(\n",
        "    arg = [\"1/1/2022\",\"18/1/2022\"],\n",
        "    format = \"%d/%m/%Y\"\n",
        ")"
      ],
      "metadata": {
        "colab": {
          "base_uri": "https://localhost:8080/"
        },
        "id": "teMgU5Be40VA",
        "outputId": "47f838d4-a0e6-4ea6-d9f9-f96e35950d45"
      },
      "execution_count": 2,
      "outputs": [
        {
          "output_type": "execute_result",
          "data": {
            "text/plain": [
              "DatetimeIndex(['2022-01-01', '2022-01-18'], dtype='datetime64[ns]', freq=None)"
            ]
          },
          "metadata": {},
          "execution_count": 2
        }
      ]
    },
    {
      "cell_type": "code",
      "source": [
        "#criando uma funcao a partir de uma base de dados existente\n",
        "import seaborn as sns\n",
        "tabela = sns.load_dataset(\"iris\").tail(n=10)\n",
        "tabela"
      ],
      "metadata": {
        "colab": {
          "base_uri": "https://localhost:8080/",
          "height": 363
        },
        "id": "4H7CdkVh53KM",
        "outputId": "acf2bfaf-e819-4099-f4ea-66b337367850"
      },
      "execution_count": 3,
      "outputs": [
        {
          "output_type": "execute_result",
          "data": {
            "text/plain": [
              "     sepal_length  sepal_width  petal_length  petal_width    species\n",
              "140           6.7          3.1           5.6          2.4  virginica\n",
              "141           6.9          3.1           5.1          2.3  virginica\n",
              "142           5.8          2.7           5.1          1.9  virginica\n",
              "143           6.8          3.2           5.9          2.3  virginica\n",
              "144           6.7          3.3           5.7          2.5  virginica\n",
              "145           6.7          3.0           5.2          2.3  virginica\n",
              "146           6.3          2.5           5.0          1.9  virginica\n",
              "147           6.5          3.0           5.2          2.0  virginica\n",
              "148           6.2          3.4           5.4          2.3  virginica\n",
              "149           5.9          3.0           5.1          1.8  virginica"
            ],
            "text/html": [
              "\n",
              "  <div id=\"df-3d69885d-62de-4712-aa39-84b8806fd225\">\n",
              "    <div class=\"colab-df-container\">\n",
              "      <div>\n",
              "<style scoped>\n",
              "    .dataframe tbody tr th:only-of-type {\n",
              "        vertical-align: middle;\n",
              "    }\n",
              "\n",
              "    .dataframe tbody tr th {\n",
              "        vertical-align: top;\n",
              "    }\n",
              "\n",
              "    .dataframe thead th {\n",
              "        text-align: right;\n",
              "    }\n",
              "</style>\n",
              "<table border=\"1\" class=\"dataframe\">\n",
              "  <thead>\n",
              "    <tr style=\"text-align: right;\">\n",
              "      <th></th>\n",
              "      <th>sepal_length</th>\n",
              "      <th>sepal_width</th>\n",
              "      <th>petal_length</th>\n",
              "      <th>petal_width</th>\n",
              "      <th>species</th>\n",
              "    </tr>\n",
              "  </thead>\n",
              "  <tbody>\n",
              "    <tr>\n",
              "      <th>140</th>\n",
              "      <td>6.7</td>\n",
              "      <td>3.1</td>\n",
              "      <td>5.6</td>\n",
              "      <td>2.4</td>\n",
              "      <td>virginica</td>\n",
              "    </tr>\n",
              "    <tr>\n",
              "      <th>141</th>\n",
              "      <td>6.9</td>\n",
              "      <td>3.1</td>\n",
              "      <td>5.1</td>\n",
              "      <td>2.3</td>\n",
              "      <td>virginica</td>\n",
              "    </tr>\n",
              "    <tr>\n",
              "      <th>142</th>\n",
              "      <td>5.8</td>\n",
              "      <td>2.7</td>\n",
              "      <td>5.1</td>\n",
              "      <td>1.9</td>\n",
              "      <td>virginica</td>\n",
              "    </tr>\n",
              "    <tr>\n",
              "      <th>143</th>\n",
              "      <td>6.8</td>\n",
              "      <td>3.2</td>\n",
              "      <td>5.9</td>\n",
              "      <td>2.3</td>\n",
              "      <td>virginica</td>\n",
              "    </tr>\n",
              "    <tr>\n",
              "      <th>144</th>\n",
              "      <td>6.7</td>\n",
              "      <td>3.3</td>\n",
              "      <td>5.7</td>\n",
              "      <td>2.5</td>\n",
              "      <td>virginica</td>\n",
              "    </tr>\n",
              "    <tr>\n",
              "      <th>145</th>\n",
              "      <td>6.7</td>\n",
              "      <td>3.0</td>\n",
              "      <td>5.2</td>\n",
              "      <td>2.3</td>\n",
              "      <td>virginica</td>\n",
              "    </tr>\n",
              "    <tr>\n",
              "      <th>146</th>\n",
              "      <td>6.3</td>\n",
              "      <td>2.5</td>\n",
              "      <td>5.0</td>\n",
              "      <td>1.9</td>\n",
              "      <td>virginica</td>\n",
              "    </tr>\n",
              "    <tr>\n",
              "      <th>147</th>\n",
              "      <td>6.5</td>\n",
              "      <td>3.0</td>\n",
              "      <td>5.2</td>\n",
              "      <td>2.0</td>\n",
              "      <td>virginica</td>\n",
              "    </tr>\n",
              "    <tr>\n",
              "      <th>148</th>\n",
              "      <td>6.2</td>\n",
              "      <td>3.4</td>\n",
              "      <td>5.4</td>\n",
              "      <td>2.3</td>\n",
              "      <td>virginica</td>\n",
              "    </tr>\n",
              "    <tr>\n",
              "      <th>149</th>\n",
              "      <td>5.9</td>\n",
              "      <td>3.0</td>\n",
              "      <td>5.1</td>\n",
              "      <td>1.8</td>\n",
              "      <td>virginica</td>\n",
              "    </tr>\n",
              "  </tbody>\n",
              "</table>\n",
              "</div>\n",
              "      <button class=\"colab-df-convert\" onclick=\"convertToInteractive('df-3d69885d-62de-4712-aa39-84b8806fd225')\"\n",
              "              title=\"Convert this dataframe to an interactive table.\"\n",
              "              style=\"display:none;\">\n",
              "        \n",
              "  <svg xmlns=\"http://www.w3.org/2000/svg\" height=\"24px\"viewBox=\"0 0 24 24\"\n",
              "       width=\"24px\">\n",
              "    <path d=\"M0 0h24v24H0V0z\" fill=\"none\"/>\n",
              "    <path d=\"M18.56 5.44l.94 2.06.94-2.06 2.06-.94-2.06-.94-.94-2.06-.94 2.06-2.06.94zm-11 1L8.5 8.5l.94-2.06 2.06-.94-2.06-.94L8.5 2.5l-.94 2.06-2.06.94zm10 10l.94 2.06.94-2.06 2.06-.94-2.06-.94-.94-2.06-.94 2.06-2.06.94z\"/><path d=\"M17.41 7.96l-1.37-1.37c-.4-.4-.92-.59-1.43-.59-.52 0-1.04.2-1.43.59L10.3 9.45l-7.72 7.72c-.78.78-.78 2.05 0 2.83L4 21.41c.39.39.9.59 1.41.59.51 0 1.02-.2 1.41-.59l7.78-7.78 2.81-2.81c.8-.78.8-2.07 0-2.86zM5.41 20L4 18.59l7.72-7.72 1.47 1.35L5.41 20z\"/>\n",
              "  </svg>\n",
              "      </button>\n",
              "      \n",
              "  <style>\n",
              "    .colab-df-container {\n",
              "      display:flex;\n",
              "      flex-wrap:wrap;\n",
              "      gap: 12px;\n",
              "    }\n",
              "\n",
              "    .colab-df-convert {\n",
              "      background-color: #E8F0FE;\n",
              "      border: none;\n",
              "      border-radius: 50%;\n",
              "      cursor: pointer;\n",
              "      display: none;\n",
              "      fill: #1967D2;\n",
              "      height: 32px;\n",
              "      padding: 0 0 0 0;\n",
              "      width: 32px;\n",
              "    }\n",
              "\n",
              "    .colab-df-convert:hover {\n",
              "      background-color: #E2EBFA;\n",
              "      box-shadow: 0px 1px 2px rgba(60, 64, 67, 0.3), 0px 1px 3px 1px rgba(60, 64, 67, 0.15);\n",
              "      fill: #174EA6;\n",
              "    }\n",
              "\n",
              "    [theme=dark] .colab-df-convert {\n",
              "      background-color: #3B4455;\n",
              "      fill: #D2E3FC;\n",
              "    }\n",
              "\n",
              "    [theme=dark] .colab-df-convert:hover {\n",
              "      background-color: #434B5C;\n",
              "      box-shadow: 0px 1px 3px 1px rgba(0, 0, 0, 0.15);\n",
              "      filter: drop-shadow(0px 1px 2px rgba(0, 0, 0, 0.3));\n",
              "      fill: #FFFFFF;\n",
              "    }\n",
              "  </style>\n",
              "\n",
              "      <script>\n",
              "        const buttonEl =\n",
              "          document.querySelector('#df-3d69885d-62de-4712-aa39-84b8806fd225 button.colab-df-convert');\n",
              "        buttonEl.style.display =\n",
              "          google.colab.kernel.accessAllowed ? 'block' : 'none';\n",
              "\n",
              "        async function convertToInteractive(key) {\n",
              "          const element = document.querySelector('#df-3d69885d-62de-4712-aa39-84b8806fd225');\n",
              "          const dataTable =\n",
              "            await google.colab.kernel.invokeFunction('convertToInteractive',\n",
              "                                                     [key], {});\n",
              "          if (!dataTable) return;\n",
              "\n",
              "          const docLinkHtml = 'Like what you see? Visit the ' +\n",
              "            '<a target=\"_blank\" href=https://colab.research.google.com/notebooks/data_table.ipynb>data table notebook</a>'\n",
              "            + ' to learn more about interactive tables.';\n",
              "          element.innerHTML = '';\n",
              "          dataTable['output_type'] = 'display_data';\n",
              "          await google.colab.output.renderOutput(dataTable, element);\n",
              "          const docLink = document.createElement('div');\n",
              "          docLink.innerHTML = docLinkHtml;\n",
              "          element.appendChild(docLink);\n",
              "        }\n",
              "      </script>\n",
              "    </div>\n",
              "  </div>\n",
              "  "
            ]
          },
          "metadata": {},
          "execution_count": 3
        }
      ]
    },
    {
      "cell_type": "code",
      "source": [
        "#funcao para subtrair de cada coluna o valor minimo, desconsiderando valores ausentes\n",
        "##manualmente \n",
        "tabela[\"sepal_length\"] #para acessar, tb podemos usar o codigo tabela.sepal_length\n",
        "tabela[\"sepal_length\"].min(skipna = True)\n",
        "tabela_min1 = tabela.sepal_length-tabela.sepal_length.min(skipna = True)\n",
        "tabela_min2 = tabela.sepal_width-tabela.sepal_width.min(skipna = True)\n",
        "tabela_min3 = tabela.petal_length-tabela.petal_length.min(skipna = True)\n",
        "tabela_min4 = tabela.petal_width-tabela.petal_width.min(skipna = True)\n"
      ],
      "metadata": {
        "id": "mUnuHV7D6WdS"
      },
      "execution_count": 4,
      "outputs": []
    },
    {
      "cell_type": "code",
      "source": [
        "#funcao para dividir o resultado pelo valor maximo menos o valor minimo, desconsiderando os ausentes\n",
        "##manualmente\n",
        "(tabela_min1/(tabela.sepal_length.max(skipna = True)-tabela.sepal_length.min(skipna = True)))\n",
        "(tabela_min2/(tabela.sepal_width.max(skipna = True)-tabela.sepal_width.min(skipna = True)))\n",
        "(tabela_min3/(tabela.petal_length.max(skipna = True)-tabela.petal_length.min(skipna = True)))\n",
        "(tabela_min4/(tabela.petal_width.max(skipna = True)-tabela.petal_width.min(skipna = True)))"
      ],
      "metadata": {
        "colab": {
          "base_uri": "https://localhost:8080/"
        },
        "id": "P6EI73af6jf7",
        "outputId": "7e8348f9-a00b-4a17-854b-b08c63e80d6d"
      },
      "execution_count": 5,
      "outputs": [
        {
          "output_type": "execute_result",
          "data": {
            "text/plain": [
              "140    0.857143\n",
              "141    0.714286\n",
              "142    0.142857\n",
              "143    0.714286\n",
              "144    1.000000\n",
              "145    0.714286\n",
              "146    0.142857\n",
              "147    0.285714\n",
              "148    0.714286\n",
              "149    0.000000\n",
              "Name: petal_width, dtype: float64"
            ]
          },
          "metadata": {},
          "execution_count": 5
        }
      ]
    },
    {
      "cell_type": "code",
      "source": [
        "#para printar a tabela nova (após as alterações)\n",
        "tabela.sepal_length = (tabela_min1/(tabela.sepal_length.max(skipna = True)-tabela.sepal_length.min(skipna = True)))\n",
        "tabela.sepal_width = (tabela_min2/(tabela.sepal_width.max(skipna = True)-tabela.sepal_width.min(skipna = True)))\n",
        "tabela.petal_length = (tabela_min3/(tabela.petal_length.max(skipna = True)-tabela.petal_length.min(skipna = True)))\n",
        "tabela.petal_width = (tabela_min4/(tabela.petal_width.max(skipna = True)-tabela.petal_width.min(skipna = True)))\n",
        "tabela"
      ],
      "metadata": {
        "id": "oSwTarc4AUa3",
        "colab": {
          "base_uri": "https://localhost:8080/",
          "height": 363
        },
        "outputId": "a9596a81-9a1b-4e35-dd39-c44037e0afd5"
      },
      "execution_count": 11,
      "outputs": [
        {
          "output_type": "execute_result",
          "data": {
            "text/plain": [
              "     sepal_length  sepal_width  petal_length  petal_width    species\n",
              "140      0.818182     0.666667      0.666667     0.857143  virginica\n",
              "141      1.000000     0.666667      0.111111     0.714286  virginica\n",
              "142      0.000000     0.222222      0.111111     0.142857  virginica\n",
              "143      0.909091     0.777778      1.000000     0.714286  virginica\n",
              "144      0.818182     0.888889      0.777778     1.000000  virginica\n",
              "145      0.818182     0.555556      0.222222     0.714286  virginica\n",
              "146      0.454545     0.000000      0.000000     0.142857  virginica\n",
              "147      0.636364     0.555556      0.222222     0.285714  virginica\n",
              "148      0.363636     1.000000      0.444444     0.714286  virginica\n",
              "149      0.090909     0.555556      0.111111     0.000000  virginica"
            ],
            "text/html": [
              "\n",
              "  <div id=\"df-51314a58-0b5a-4248-84d8-709d1f8faf07\">\n",
              "    <div class=\"colab-df-container\">\n",
              "      <div>\n",
              "<style scoped>\n",
              "    .dataframe tbody tr th:only-of-type {\n",
              "        vertical-align: middle;\n",
              "    }\n",
              "\n",
              "    .dataframe tbody tr th {\n",
              "        vertical-align: top;\n",
              "    }\n",
              "\n",
              "    .dataframe thead th {\n",
              "        text-align: right;\n",
              "    }\n",
              "</style>\n",
              "<table border=\"1\" class=\"dataframe\">\n",
              "  <thead>\n",
              "    <tr style=\"text-align: right;\">\n",
              "      <th></th>\n",
              "      <th>sepal_length</th>\n",
              "      <th>sepal_width</th>\n",
              "      <th>petal_length</th>\n",
              "      <th>petal_width</th>\n",
              "      <th>species</th>\n",
              "    </tr>\n",
              "  </thead>\n",
              "  <tbody>\n",
              "    <tr>\n",
              "      <th>140</th>\n",
              "      <td>0.818182</td>\n",
              "      <td>0.666667</td>\n",
              "      <td>0.666667</td>\n",
              "      <td>0.857143</td>\n",
              "      <td>virginica</td>\n",
              "    </tr>\n",
              "    <tr>\n",
              "      <th>141</th>\n",
              "      <td>1.000000</td>\n",
              "      <td>0.666667</td>\n",
              "      <td>0.111111</td>\n",
              "      <td>0.714286</td>\n",
              "      <td>virginica</td>\n",
              "    </tr>\n",
              "    <tr>\n",
              "      <th>142</th>\n",
              "      <td>0.000000</td>\n",
              "      <td>0.222222</td>\n",
              "      <td>0.111111</td>\n",
              "      <td>0.142857</td>\n",
              "      <td>virginica</td>\n",
              "    </tr>\n",
              "    <tr>\n",
              "      <th>143</th>\n",
              "      <td>0.909091</td>\n",
              "      <td>0.777778</td>\n",
              "      <td>1.000000</td>\n",
              "      <td>0.714286</td>\n",
              "      <td>virginica</td>\n",
              "    </tr>\n",
              "    <tr>\n",
              "      <th>144</th>\n",
              "      <td>0.818182</td>\n",
              "      <td>0.888889</td>\n",
              "      <td>0.777778</td>\n",
              "      <td>1.000000</td>\n",
              "      <td>virginica</td>\n",
              "    </tr>\n",
              "    <tr>\n",
              "      <th>145</th>\n",
              "      <td>0.818182</td>\n",
              "      <td>0.555556</td>\n",
              "      <td>0.222222</td>\n",
              "      <td>0.714286</td>\n",
              "      <td>virginica</td>\n",
              "    </tr>\n",
              "    <tr>\n",
              "      <th>146</th>\n",
              "      <td>0.454545</td>\n",
              "      <td>0.000000</td>\n",
              "      <td>0.000000</td>\n",
              "      <td>0.142857</td>\n",
              "      <td>virginica</td>\n",
              "    </tr>\n",
              "    <tr>\n",
              "      <th>147</th>\n",
              "      <td>0.636364</td>\n",
              "      <td>0.555556</td>\n",
              "      <td>0.222222</td>\n",
              "      <td>0.285714</td>\n",
              "      <td>virginica</td>\n",
              "    </tr>\n",
              "    <tr>\n",
              "      <th>148</th>\n",
              "      <td>0.363636</td>\n",
              "      <td>1.000000</td>\n",
              "      <td>0.444444</td>\n",
              "      <td>0.714286</td>\n",
              "      <td>virginica</td>\n",
              "    </tr>\n",
              "    <tr>\n",
              "      <th>149</th>\n",
              "      <td>0.090909</td>\n",
              "      <td>0.555556</td>\n",
              "      <td>0.111111</td>\n",
              "      <td>0.000000</td>\n",
              "      <td>virginica</td>\n",
              "    </tr>\n",
              "  </tbody>\n",
              "</table>\n",
              "</div>\n",
              "      <button class=\"colab-df-convert\" onclick=\"convertToInteractive('df-51314a58-0b5a-4248-84d8-709d1f8faf07')\"\n",
              "              title=\"Convert this dataframe to an interactive table.\"\n",
              "              style=\"display:none;\">\n",
              "        \n",
              "  <svg xmlns=\"http://www.w3.org/2000/svg\" height=\"24px\"viewBox=\"0 0 24 24\"\n",
              "       width=\"24px\">\n",
              "    <path d=\"M0 0h24v24H0V0z\" fill=\"none\"/>\n",
              "    <path d=\"M18.56 5.44l.94 2.06.94-2.06 2.06-.94-2.06-.94-.94-2.06-.94 2.06-2.06.94zm-11 1L8.5 8.5l.94-2.06 2.06-.94-2.06-.94L8.5 2.5l-.94 2.06-2.06.94zm10 10l.94 2.06.94-2.06 2.06-.94-2.06-.94-.94-2.06-.94 2.06-2.06.94z\"/><path d=\"M17.41 7.96l-1.37-1.37c-.4-.4-.92-.59-1.43-.59-.52 0-1.04.2-1.43.59L10.3 9.45l-7.72 7.72c-.78.78-.78 2.05 0 2.83L4 21.41c.39.39.9.59 1.41.59.51 0 1.02-.2 1.41-.59l7.78-7.78 2.81-2.81c.8-.78.8-2.07 0-2.86zM5.41 20L4 18.59l7.72-7.72 1.47 1.35L5.41 20z\"/>\n",
              "  </svg>\n",
              "      </button>\n",
              "      \n",
              "  <style>\n",
              "    .colab-df-container {\n",
              "      display:flex;\n",
              "      flex-wrap:wrap;\n",
              "      gap: 12px;\n",
              "    }\n",
              "\n",
              "    .colab-df-convert {\n",
              "      background-color: #E8F0FE;\n",
              "      border: none;\n",
              "      border-radius: 50%;\n",
              "      cursor: pointer;\n",
              "      display: none;\n",
              "      fill: #1967D2;\n",
              "      height: 32px;\n",
              "      padding: 0 0 0 0;\n",
              "      width: 32px;\n",
              "    }\n",
              "\n",
              "    .colab-df-convert:hover {\n",
              "      background-color: #E2EBFA;\n",
              "      box-shadow: 0px 1px 2px rgba(60, 64, 67, 0.3), 0px 1px 3px 1px rgba(60, 64, 67, 0.15);\n",
              "      fill: #174EA6;\n",
              "    }\n",
              "\n",
              "    [theme=dark] .colab-df-convert {\n",
              "      background-color: #3B4455;\n",
              "      fill: #D2E3FC;\n",
              "    }\n",
              "\n",
              "    [theme=dark] .colab-df-convert:hover {\n",
              "      background-color: #434B5C;\n",
              "      box-shadow: 0px 1px 3px 1px rgba(0, 0, 0, 0.15);\n",
              "      filter: drop-shadow(0px 1px 2px rgba(0, 0, 0, 0.3));\n",
              "      fill: #FFFFFF;\n",
              "    }\n",
              "  </style>\n",
              "\n",
              "      <script>\n",
              "        const buttonEl =\n",
              "          document.querySelector('#df-51314a58-0b5a-4248-84d8-709d1f8faf07 button.colab-df-convert');\n",
              "        buttonEl.style.display =\n",
              "          google.colab.kernel.accessAllowed ? 'block' : 'none';\n",
              "\n",
              "        async function convertToInteractive(key) {\n",
              "          const element = document.querySelector('#df-51314a58-0b5a-4248-84d8-709d1f8faf07');\n",
              "          const dataTable =\n",
              "            await google.colab.kernel.invokeFunction('convertToInteractive',\n",
              "                                                     [key], {});\n",
              "          if (!dataTable) return;\n",
              "\n",
              "          const docLinkHtml = 'Like what you see? Visit the ' +\n",
              "            '<a target=\"_blank\" href=https://colab.research.google.com/notebooks/data_table.ipynb>data table notebook</a>'\n",
              "            + ' to learn more about interactive tables.';\n",
              "          element.innerHTML = '';\n",
              "          dataTable['output_type'] = 'display_data';\n",
              "          await google.colab.output.renderOutput(dataTable, element);\n",
              "          const docLink = document.createElement('div');\n",
              "          docLink.innerHTML = docLinkHtml;\n",
              "          element.appendChild(docLink);\n",
              "        }\n",
              "      </script>\n",
              "    </div>\n",
              "  </div>\n",
              "  "
            ]
          },
          "metadata": {},
          "execution_count": 11
        }
      ]
    },
    {
      "cell_type": "code",
      "source": [
        "#Regra geral da função\n",
        "def nome_funcao(arg1, arg2, ...):\n",
        "  #corpo: codigo que a funcao executa\n",
        "  return #o objeto retornado"
      ],
      "metadata": {
        "id": "unrHpJpQMzUQ"
      },
      "execution_count": null,
      "outputs": []
    },
    {
      "cell_type": "code",
      "source": [
        "#fazendo a funcao acima\n",
        "def normalizar(x):\n",
        "  return (x - x.min(skipna = True)) / (x.max(skipna = True) - x.min(skipna = True))\n",
        "  "
      ],
      "metadata": {
        "id": "BAT3nGHSRSCx"
      },
      "execution_count": null,
      "outputs": []
    },
    {
      "cell_type": "code",
      "source": [
        "#fazendo ainda mais limpa, para evitar chamar a funcao x.min 2 vezes\n",
        "#colocaremos um objeto intermediario\n",
        "def normalizar(x):\n",
        "  x_min = x.min(skipna = True)\n",
        "  return (x - x_min) / (x.max(skipna = True) - x_min)  "
      ],
      "metadata": {
        "id": "mI6OuJCdTGQf"
      },
      "execution_count": 12,
      "outputs": []
    },
    {
      "cell_type": "code",
      "source": [
        "#utilizando a funcao na nossa base de dados\n",
        "import seaborn as sns\n",
        "tabela = sns.load_dataset(\"iris\").tail(n=10)\n",
        "tabela.sepal_length = normalizar(tabela.sepal_length)\n",
        "tabela.sepal_width = normalizar(tabela.sepal_width)\n",
        "tabela.petal_length = normalizar(tabela.petal_length)\n",
        "tabela.petal_width = normalizar(tabela.petal_width)\n",
        "tabela"
      ],
      "metadata": {
        "colab": {
          "base_uri": "https://localhost:8080/",
          "height": 363
        },
        "id": "008zZVtQTsyW",
        "outputId": "c6982000-78b4-420f-dc35-37e1626d5c98"
      },
      "execution_count": 15,
      "outputs": [
        {
          "output_type": "execute_result",
          "data": {
            "text/plain": [
              "     sepal_length  sepal_width  petal_length  petal_width    species\n",
              "140      0.818182     0.666667      0.666667     0.857143  virginica\n",
              "141      1.000000     0.666667      0.111111     0.714286  virginica\n",
              "142      0.000000     0.222222      0.111111     0.142857  virginica\n",
              "143      0.909091     0.777778      1.000000     0.714286  virginica\n",
              "144      0.818182     0.888889      0.777778     1.000000  virginica\n",
              "145      0.818182     0.555556      0.222222     0.714286  virginica\n",
              "146      0.454545     0.000000      0.000000     0.142857  virginica\n",
              "147      0.636364     0.555556      0.222222     0.285714  virginica\n",
              "148      0.363636     1.000000      0.444444     0.714286  virginica\n",
              "149      0.090909     0.555556      0.111111     0.000000  virginica"
            ],
            "text/html": [
              "\n",
              "  <div id=\"df-3961cbf7-da2c-4e81-b7a2-a589b1239790\">\n",
              "    <div class=\"colab-df-container\">\n",
              "      <div>\n",
              "<style scoped>\n",
              "    .dataframe tbody tr th:only-of-type {\n",
              "        vertical-align: middle;\n",
              "    }\n",
              "\n",
              "    .dataframe tbody tr th {\n",
              "        vertical-align: top;\n",
              "    }\n",
              "\n",
              "    .dataframe thead th {\n",
              "        text-align: right;\n",
              "    }\n",
              "</style>\n",
              "<table border=\"1\" class=\"dataframe\">\n",
              "  <thead>\n",
              "    <tr style=\"text-align: right;\">\n",
              "      <th></th>\n",
              "      <th>sepal_length</th>\n",
              "      <th>sepal_width</th>\n",
              "      <th>petal_length</th>\n",
              "      <th>petal_width</th>\n",
              "      <th>species</th>\n",
              "    </tr>\n",
              "  </thead>\n",
              "  <tbody>\n",
              "    <tr>\n",
              "      <th>140</th>\n",
              "      <td>0.818182</td>\n",
              "      <td>0.666667</td>\n",
              "      <td>0.666667</td>\n",
              "      <td>0.857143</td>\n",
              "      <td>virginica</td>\n",
              "    </tr>\n",
              "    <tr>\n",
              "      <th>141</th>\n",
              "      <td>1.000000</td>\n",
              "      <td>0.666667</td>\n",
              "      <td>0.111111</td>\n",
              "      <td>0.714286</td>\n",
              "      <td>virginica</td>\n",
              "    </tr>\n",
              "    <tr>\n",
              "      <th>142</th>\n",
              "      <td>0.000000</td>\n",
              "      <td>0.222222</td>\n",
              "      <td>0.111111</td>\n",
              "      <td>0.142857</td>\n",
              "      <td>virginica</td>\n",
              "    </tr>\n",
              "    <tr>\n",
              "      <th>143</th>\n",
              "      <td>0.909091</td>\n",
              "      <td>0.777778</td>\n",
              "      <td>1.000000</td>\n",
              "      <td>0.714286</td>\n",
              "      <td>virginica</td>\n",
              "    </tr>\n",
              "    <tr>\n",
              "      <th>144</th>\n",
              "      <td>0.818182</td>\n",
              "      <td>0.888889</td>\n",
              "      <td>0.777778</td>\n",
              "      <td>1.000000</td>\n",
              "      <td>virginica</td>\n",
              "    </tr>\n",
              "    <tr>\n",
              "      <th>145</th>\n",
              "      <td>0.818182</td>\n",
              "      <td>0.555556</td>\n",
              "      <td>0.222222</td>\n",
              "      <td>0.714286</td>\n",
              "      <td>virginica</td>\n",
              "    </tr>\n",
              "    <tr>\n",
              "      <th>146</th>\n",
              "      <td>0.454545</td>\n",
              "      <td>0.000000</td>\n",
              "      <td>0.000000</td>\n",
              "      <td>0.142857</td>\n",
              "      <td>virginica</td>\n",
              "    </tr>\n",
              "    <tr>\n",
              "      <th>147</th>\n",
              "      <td>0.636364</td>\n",
              "      <td>0.555556</td>\n",
              "      <td>0.222222</td>\n",
              "      <td>0.285714</td>\n",
              "      <td>virginica</td>\n",
              "    </tr>\n",
              "    <tr>\n",
              "      <th>148</th>\n",
              "      <td>0.363636</td>\n",
              "      <td>1.000000</td>\n",
              "      <td>0.444444</td>\n",
              "      <td>0.714286</td>\n",
              "      <td>virginica</td>\n",
              "    </tr>\n",
              "    <tr>\n",
              "      <th>149</th>\n",
              "      <td>0.090909</td>\n",
              "      <td>0.555556</td>\n",
              "      <td>0.111111</td>\n",
              "      <td>0.000000</td>\n",
              "      <td>virginica</td>\n",
              "    </tr>\n",
              "  </tbody>\n",
              "</table>\n",
              "</div>\n",
              "      <button class=\"colab-df-convert\" onclick=\"convertToInteractive('df-3961cbf7-da2c-4e81-b7a2-a589b1239790')\"\n",
              "              title=\"Convert this dataframe to an interactive table.\"\n",
              "              style=\"display:none;\">\n",
              "        \n",
              "  <svg xmlns=\"http://www.w3.org/2000/svg\" height=\"24px\"viewBox=\"0 0 24 24\"\n",
              "       width=\"24px\">\n",
              "    <path d=\"M0 0h24v24H0V0z\" fill=\"none\"/>\n",
              "    <path d=\"M18.56 5.44l.94 2.06.94-2.06 2.06-.94-2.06-.94-.94-2.06-.94 2.06-2.06.94zm-11 1L8.5 8.5l.94-2.06 2.06-.94-2.06-.94L8.5 2.5l-.94 2.06-2.06.94zm10 10l.94 2.06.94-2.06 2.06-.94-2.06-.94-.94-2.06-.94 2.06-2.06.94z\"/><path d=\"M17.41 7.96l-1.37-1.37c-.4-.4-.92-.59-1.43-.59-.52 0-1.04.2-1.43.59L10.3 9.45l-7.72 7.72c-.78.78-.78 2.05 0 2.83L4 21.41c.39.39.9.59 1.41.59.51 0 1.02-.2 1.41-.59l7.78-7.78 2.81-2.81c.8-.78.8-2.07 0-2.86zM5.41 20L4 18.59l7.72-7.72 1.47 1.35L5.41 20z\"/>\n",
              "  </svg>\n",
              "      </button>\n",
              "      \n",
              "  <style>\n",
              "    .colab-df-container {\n",
              "      display:flex;\n",
              "      flex-wrap:wrap;\n",
              "      gap: 12px;\n",
              "    }\n",
              "\n",
              "    .colab-df-convert {\n",
              "      background-color: #E8F0FE;\n",
              "      border: none;\n",
              "      border-radius: 50%;\n",
              "      cursor: pointer;\n",
              "      display: none;\n",
              "      fill: #1967D2;\n",
              "      height: 32px;\n",
              "      padding: 0 0 0 0;\n",
              "      width: 32px;\n",
              "    }\n",
              "\n",
              "    .colab-df-convert:hover {\n",
              "      background-color: #E2EBFA;\n",
              "      box-shadow: 0px 1px 2px rgba(60, 64, 67, 0.3), 0px 1px 3px 1px rgba(60, 64, 67, 0.15);\n",
              "      fill: #174EA6;\n",
              "    }\n",
              "\n",
              "    [theme=dark] .colab-df-convert {\n",
              "      background-color: #3B4455;\n",
              "      fill: #D2E3FC;\n",
              "    }\n",
              "\n",
              "    [theme=dark] .colab-df-convert:hover {\n",
              "      background-color: #434B5C;\n",
              "      box-shadow: 0px 1px 3px 1px rgba(0, 0, 0, 0.15);\n",
              "      filter: drop-shadow(0px 1px 2px rgba(0, 0, 0, 0.3));\n",
              "      fill: #FFFFFF;\n",
              "    }\n",
              "  </style>\n",
              "\n",
              "      <script>\n",
              "        const buttonEl =\n",
              "          document.querySelector('#df-3961cbf7-da2c-4e81-b7a2-a589b1239790 button.colab-df-convert');\n",
              "        buttonEl.style.display =\n",
              "          google.colab.kernel.accessAllowed ? 'block' : 'none';\n",
              "\n",
              "        async function convertToInteractive(key) {\n",
              "          const element = document.querySelector('#df-3961cbf7-da2c-4e81-b7a2-a589b1239790');\n",
              "          const dataTable =\n",
              "            await google.colab.kernel.invokeFunction('convertToInteractive',\n",
              "                                                     [key], {});\n",
              "          if (!dataTable) return;\n",
              "\n",
              "          const docLinkHtml = 'Like what you see? Visit the ' +\n",
              "            '<a target=\"_blank\" href=https://colab.research.google.com/notebooks/data_table.ipynb>data table notebook</a>'\n",
              "            + ' to learn more about interactive tables.';\n",
              "          element.innerHTML = '';\n",
              "          dataTable['output_type'] = 'display_data';\n",
              "          await google.colab.output.renderOutput(dataTable, element);\n",
              "          const docLink = document.createElement('div');\n",
              "          docLink.innerHTML = docLinkHtml;\n",
              "          element.appendChild(docLink);\n",
              "        }\n",
              "      </script>\n",
              "    </div>\n",
              "  </div>\n",
              "  "
            ]
          },
          "metadata": {},
          "execution_count": 15
        }
      ]
    },
    {
      "cell_type": "markdown",
      "source": [
        "### Estruturas de repetição e de decisão\n",
        "\n",
        "Decisão: if, else, elif\n",
        "Repetição: for e map"
      ],
      "metadata": {
        "id": "rS_ymHuhU7_e"
      }
    },
    {
      "cell_type": "code",
      "source": [
        "#Importando bibliotecas\n",
        "from statsmodels import datasets"
      ],
      "metadata": {
        "id": "2OELZK7WVixt"
      },
      "execution_count": 17,
      "outputs": []
    },
    {
      "cell_type": "code",
      "source": [
        "#carregando dados de exemplo\n",
        "#o acesso aos dados é feito via \".data\"\n",
        "tabela_indices = datasets.get_rdataset(\"EuStockMarkets\").data\n",
        "tabela_indices"
      ],
      "metadata": {
        "colab": {
          "base_uri": "https://localhost:8080/",
          "height": 423
        },
        "id": "1XWb-6xnVusV",
        "outputId": "d555cd58-8563-4204-c536-3b645257b821"
      },
      "execution_count": 35,
      "outputs": [
        {
          "output_type": "execute_result",
          "data": {
            "text/plain": [
              "          DAX     SMI     CAC    FTSE\n",
              "0     1628.75  1678.1  1772.8  2443.6\n",
              "1     1613.63  1688.5  1750.5  2460.2\n",
              "2     1606.51  1678.6  1718.0  2448.2\n",
              "3     1621.04  1684.1  1708.1  2470.4\n",
              "4     1618.16  1686.6  1723.1  2484.7\n",
              "...       ...     ...     ...     ...\n",
              "1855  5460.43  7721.3  3939.5  5587.6\n",
              "1856  5285.78  7447.9  3846.0  5432.8\n",
              "1857  5386.94  7607.5  3945.7  5462.2\n",
              "1858  5355.03  7552.6  3951.7  5399.5\n",
              "1859  5473.72  7676.3  3995.0  5455.0\n",
              "\n",
              "[1860 rows x 4 columns]"
            ],
            "text/html": [
              "\n",
              "  <div id=\"df-5315a120-9450-4362-ab21-1d48c0d61ad8\">\n",
              "    <div class=\"colab-df-container\">\n",
              "      <div>\n",
              "<style scoped>\n",
              "    .dataframe tbody tr th:only-of-type {\n",
              "        vertical-align: middle;\n",
              "    }\n",
              "\n",
              "    .dataframe tbody tr th {\n",
              "        vertical-align: top;\n",
              "    }\n",
              "\n",
              "    .dataframe thead th {\n",
              "        text-align: right;\n",
              "    }\n",
              "</style>\n",
              "<table border=\"1\" class=\"dataframe\">\n",
              "  <thead>\n",
              "    <tr style=\"text-align: right;\">\n",
              "      <th></th>\n",
              "      <th>DAX</th>\n",
              "      <th>SMI</th>\n",
              "      <th>CAC</th>\n",
              "      <th>FTSE</th>\n",
              "    </tr>\n",
              "  </thead>\n",
              "  <tbody>\n",
              "    <tr>\n",
              "      <th>0</th>\n",
              "      <td>1628.75</td>\n",
              "      <td>1678.1</td>\n",
              "      <td>1772.8</td>\n",
              "      <td>2443.6</td>\n",
              "    </tr>\n",
              "    <tr>\n",
              "      <th>1</th>\n",
              "      <td>1613.63</td>\n",
              "      <td>1688.5</td>\n",
              "      <td>1750.5</td>\n",
              "      <td>2460.2</td>\n",
              "    </tr>\n",
              "    <tr>\n",
              "      <th>2</th>\n",
              "      <td>1606.51</td>\n",
              "      <td>1678.6</td>\n",
              "      <td>1718.0</td>\n",
              "      <td>2448.2</td>\n",
              "    </tr>\n",
              "    <tr>\n",
              "      <th>3</th>\n",
              "      <td>1621.04</td>\n",
              "      <td>1684.1</td>\n",
              "      <td>1708.1</td>\n",
              "      <td>2470.4</td>\n",
              "    </tr>\n",
              "    <tr>\n",
              "      <th>4</th>\n",
              "      <td>1618.16</td>\n",
              "      <td>1686.6</td>\n",
              "      <td>1723.1</td>\n",
              "      <td>2484.7</td>\n",
              "    </tr>\n",
              "    <tr>\n",
              "      <th>...</th>\n",
              "      <td>...</td>\n",
              "      <td>...</td>\n",
              "      <td>...</td>\n",
              "      <td>...</td>\n",
              "    </tr>\n",
              "    <tr>\n",
              "      <th>1855</th>\n",
              "      <td>5460.43</td>\n",
              "      <td>7721.3</td>\n",
              "      <td>3939.5</td>\n",
              "      <td>5587.6</td>\n",
              "    </tr>\n",
              "    <tr>\n",
              "      <th>1856</th>\n",
              "      <td>5285.78</td>\n",
              "      <td>7447.9</td>\n",
              "      <td>3846.0</td>\n",
              "      <td>5432.8</td>\n",
              "    </tr>\n",
              "    <tr>\n",
              "      <th>1857</th>\n",
              "      <td>5386.94</td>\n",
              "      <td>7607.5</td>\n",
              "      <td>3945.7</td>\n",
              "      <td>5462.2</td>\n",
              "    </tr>\n",
              "    <tr>\n",
              "      <th>1858</th>\n",
              "      <td>5355.03</td>\n",
              "      <td>7552.6</td>\n",
              "      <td>3951.7</td>\n",
              "      <td>5399.5</td>\n",
              "    </tr>\n",
              "    <tr>\n",
              "      <th>1859</th>\n",
              "      <td>5473.72</td>\n",
              "      <td>7676.3</td>\n",
              "      <td>3995.0</td>\n",
              "      <td>5455.0</td>\n",
              "    </tr>\n",
              "  </tbody>\n",
              "</table>\n",
              "<p>1860 rows × 4 columns</p>\n",
              "</div>\n",
              "      <button class=\"colab-df-convert\" onclick=\"convertToInteractive('df-5315a120-9450-4362-ab21-1d48c0d61ad8')\"\n",
              "              title=\"Convert this dataframe to an interactive table.\"\n",
              "              style=\"display:none;\">\n",
              "        \n",
              "  <svg xmlns=\"http://www.w3.org/2000/svg\" height=\"24px\"viewBox=\"0 0 24 24\"\n",
              "       width=\"24px\">\n",
              "    <path d=\"M0 0h24v24H0V0z\" fill=\"none\"/>\n",
              "    <path d=\"M18.56 5.44l.94 2.06.94-2.06 2.06-.94-2.06-.94-.94-2.06-.94 2.06-2.06.94zm-11 1L8.5 8.5l.94-2.06 2.06-.94-2.06-.94L8.5 2.5l-.94 2.06-2.06.94zm10 10l.94 2.06.94-2.06 2.06-.94-2.06-.94-.94-2.06-.94 2.06-2.06.94z\"/><path d=\"M17.41 7.96l-1.37-1.37c-.4-.4-.92-.59-1.43-.59-.52 0-1.04.2-1.43.59L10.3 9.45l-7.72 7.72c-.78.78-.78 2.05 0 2.83L4 21.41c.39.39.9.59 1.41.59.51 0 1.02-.2 1.41-.59l7.78-7.78 2.81-2.81c.8-.78.8-2.07 0-2.86zM5.41 20L4 18.59l7.72-7.72 1.47 1.35L5.41 20z\"/>\n",
              "  </svg>\n",
              "      </button>\n",
              "      \n",
              "  <style>\n",
              "    .colab-df-container {\n",
              "      display:flex;\n",
              "      flex-wrap:wrap;\n",
              "      gap: 12px;\n",
              "    }\n",
              "\n",
              "    .colab-df-convert {\n",
              "      background-color: #E8F0FE;\n",
              "      border: none;\n",
              "      border-radius: 50%;\n",
              "      cursor: pointer;\n",
              "      display: none;\n",
              "      fill: #1967D2;\n",
              "      height: 32px;\n",
              "      padding: 0 0 0 0;\n",
              "      width: 32px;\n",
              "    }\n",
              "\n",
              "    .colab-df-convert:hover {\n",
              "      background-color: #E2EBFA;\n",
              "      box-shadow: 0px 1px 2px rgba(60, 64, 67, 0.3), 0px 1px 3px 1px rgba(60, 64, 67, 0.15);\n",
              "      fill: #174EA6;\n",
              "    }\n",
              "\n",
              "    [theme=dark] .colab-df-convert {\n",
              "      background-color: #3B4455;\n",
              "      fill: #D2E3FC;\n",
              "    }\n",
              "\n",
              "    [theme=dark] .colab-df-convert:hover {\n",
              "      background-color: #434B5C;\n",
              "      box-shadow: 0px 1px 3px 1px rgba(0, 0, 0, 0.15);\n",
              "      filter: drop-shadow(0px 1px 2px rgba(0, 0, 0, 0.3));\n",
              "      fill: #FFFFFF;\n",
              "    }\n",
              "  </style>\n",
              "\n",
              "      <script>\n",
              "        const buttonEl =\n",
              "          document.querySelector('#df-5315a120-9450-4362-ab21-1d48c0d61ad8 button.colab-df-convert');\n",
              "        buttonEl.style.display =\n",
              "          google.colab.kernel.accessAllowed ? 'block' : 'none';\n",
              "\n",
              "        async function convertToInteractive(key) {\n",
              "          const element = document.querySelector('#df-5315a120-9450-4362-ab21-1d48c0d61ad8');\n",
              "          const dataTable =\n",
              "            await google.colab.kernel.invokeFunction('convertToInteractive',\n",
              "                                                     [key], {});\n",
              "          if (!dataTable) return;\n",
              "\n",
              "          const docLinkHtml = 'Like what you see? Visit the ' +\n",
              "            '<a target=\"_blank\" href=https://colab.research.google.com/notebooks/data_table.ipynb>data table notebook</a>'\n",
              "            + ' to learn more about interactive tables.';\n",
              "          element.innerHTML = '';\n",
              "          dataTable['output_type'] = 'display_data';\n",
              "          await google.colab.output.renderOutput(dataTable, element);\n",
              "          const docLink = document.createElement('div');\n",
              "          docLink.innerHTML = docLinkHtml;\n",
              "          element.appendChild(docLink);\n",
              "        }\n",
              "      </script>\n",
              "    </div>\n",
              "  </div>\n",
              "  "
            ]
          },
          "metadata": {},
          "execution_count": 35
        }
      ]
    },
    {
      "cell_type": "code",
      "source": [
        "#Estruturas de decisao - if\n",
        "#queremos calcular a variação % diária, tirar uma média \n",
        "#e criar uma coluna na qual apontaremos se a variação média histórica é positiva ou negativa\n",
        "#regra geral\n",
        "if condicao_verdadeira:\n",
        "  codigo_a_ser_executado"
      ],
      "metadata": {
        "id": "x_co6ksbWlCW"
      },
      "execution_count": 27,
      "outputs": []
    },
    {
      "cell_type": "code",
      "source": [
        "tabela_indices.DAX.pct_change().mean()"
      ],
      "metadata": {
        "colab": {
          "base_uri": "https://localhost:8080/"
        },
        "id": "TN8Cn6pRdc7f",
        "outputId": "439f01cf-4e63-45a9-fe63-d8dce165e098"
      },
      "execution_count": 36,
      "outputs": [
        {
          "output_type": "execute_result",
          "data": {
            "text/plain": [
              "0.0007052174343769715"
            ]
          },
          "metadata": {},
          "execution_count": 36
        }
      ]
    },
    {
      "cell_type": "code",
      "source": [
        "#regra para o caso concreto\n",
        "if tabela_indices.DAX.pct_change().mean() > 0:\n",
        "  tabela_indices[\"historico_dax\"] = \"Positivo\"\n",
        "tabela_indices"
      ],
      "metadata": {
        "colab": {
          "base_uri": "https://localhost:8080/",
          "height": 423
        },
        "id": "8nXIQE9YceG7",
        "outputId": "68a97140-85ae-40cc-eaba-72d73b5ebd21"
      },
      "execution_count": 37,
      "outputs": [
        {
          "output_type": "execute_result",
          "data": {
            "text/plain": [
              "          DAX     SMI     CAC    FTSE historico_dax\n",
              "0     1628.75  1678.1  1772.8  2443.6      Positivo\n",
              "1     1613.63  1688.5  1750.5  2460.2      Positivo\n",
              "2     1606.51  1678.6  1718.0  2448.2      Positivo\n",
              "3     1621.04  1684.1  1708.1  2470.4      Positivo\n",
              "4     1618.16  1686.6  1723.1  2484.7      Positivo\n",
              "...       ...     ...     ...     ...           ...\n",
              "1855  5460.43  7721.3  3939.5  5587.6      Positivo\n",
              "1856  5285.78  7447.9  3846.0  5432.8      Positivo\n",
              "1857  5386.94  7607.5  3945.7  5462.2      Positivo\n",
              "1858  5355.03  7552.6  3951.7  5399.5      Positivo\n",
              "1859  5473.72  7676.3  3995.0  5455.0      Positivo\n",
              "\n",
              "[1860 rows x 5 columns]"
            ],
            "text/html": [
              "\n",
              "  <div id=\"df-191c53ed-2401-450c-9356-b35f580b2970\">\n",
              "    <div class=\"colab-df-container\">\n",
              "      <div>\n",
              "<style scoped>\n",
              "    .dataframe tbody tr th:only-of-type {\n",
              "        vertical-align: middle;\n",
              "    }\n",
              "\n",
              "    .dataframe tbody tr th {\n",
              "        vertical-align: top;\n",
              "    }\n",
              "\n",
              "    .dataframe thead th {\n",
              "        text-align: right;\n",
              "    }\n",
              "</style>\n",
              "<table border=\"1\" class=\"dataframe\">\n",
              "  <thead>\n",
              "    <tr style=\"text-align: right;\">\n",
              "      <th></th>\n",
              "      <th>DAX</th>\n",
              "      <th>SMI</th>\n",
              "      <th>CAC</th>\n",
              "      <th>FTSE</th>\n",
              "      <th>historico_dax</th>\n",
              "    </tr>\n",
              "  </thead>\n",
              "  <tbody>\n",
              "    <tr>\n",
              "      <th>0</th>\n",
              "      <td>1628.75</td>\n",
              "      <td>1678.1</td>\n",
              "      <td>1772.8</td>\n",
              "      <td>2443.6</td>\n",
              "      <td>Positivo</td>\n",
              "    </tr>\n",
              "    <tr>\n",
              "      <th>1</th>\n",
              "      <td>1613.63</td>\n",
              "      <td>1688.5</td>\n",
              "      <td>1750.5</td>\n",
              "      <td>2460.2</td>\n",
              "      <td>Positivo</td>\n",
              "    </tr>\n",
              "    <tr>\n",
              "      <th>2</th>\n",
              "      <td>1606.51</td>\n",
              "      <td>1678.6</td>\n",
              "      <td>1718.0</td>\n",
              "      <td>2448.2</td>\n",
              "      <td>Positivo</td>\n",
              "    </tr>\n",
              "    <tr>\n",
              "      <th>3</th>\n",
              "      <td>1621.04</td>\n",
              "      <td>1684.1</td>\n",
              "      <td>1708.1</td>\n",
              "      <td>2470.4</td>\n",
              "      <td>Positivo</td>\n",
              "    </tr>\n",
              "    <tr>\n",
              "      <th>4</th>\n",
              "      <td>1618.16</td>\n",
              "      <td>1686.6</td>\n",
              "      <td>1723.1</td>\n",
              "      <td>2484.7</td>\n",
              "      <td>Positivo</td>\n",
              "    </tr>\n",
              "    <tr>\n",
              "      <th>...</th>\n",
              "      <td>...</td>\n",
              "      <td>...</td>\n",
              "      <td>...</td>\n",
              "      <td>...</td>\n",
              "      <td>...</td>\n",
              "    </tr>\n",
              "    <tr>\n",
              "      <th>1855</th>\n",
              "      <td>5460.43</td>\n",
              "      <td>7721.3</td>\n",
              "      <td>3939.5</td>\n",
              "      <td>5587.6</td>\n",
              "      <td>Positivo</td>\n",
              "    </tr>\n",
              "    <tr>\n",
              "      <th>1856</th>\n",
              "      <td>5285.78</td>\n",
              "      <td>7447.9</td>\n",
              "      <td>3846.0</td>\n",
              "      <td>5432.8</td>\n",
              "      <td>Positivo</td>\n",
              "    </tr>\n",
              "    <tr>\n",
              "      <th>1857</th>\n",
              "      <td>5386.94</td>\n",
              "      <td>7607.5</td>\n",
              "      <td>3945.7</td>\n",
              "      <td>5462.2</td>\n",
              "      <td>Positivo</td>\n",
              "    </tr>\n",
              "    <tr>\n",
              "      <th>1858</th>\n",
              "      <td>5355.03</td>\n",
              "      <td>7552.6</td>\n",
              "      <td>3951.7</td>\n",
              "      <td>5399.5</td>\n",
              "      <td>Positivo</td>\n",
              "    </tr>\n",
              "    <tr>\n",
              "      <th>1859</th>\n",
              "      <td>5473.72</td>\n",
              "      <td>7676.3</td>\n",
              "      <td>3995.0</td>\n",
              "      <td>5455.0</td>\n",
              "      <td>Positivo</td>\n",
              "    </tr>\n",
              "  </tbody>\n",
              "</table>\n",
              "<p>1860 rows × 5 columns</p>\n",
              "</div>\n",
              "      <button class=\"colab-df-convert\" onclick=\"convertToInteractive('df-191c53ed-2401-450c-9356-b35f580b2970')\"\n",
              "              title=\"Convert this dataframe to an interactive table.\"\n",
              "              style=\"display:none;\">\n",
              "        \n",
              "  <svg xmlns=\"http://www.w3.org/2000/svg\" height=\"24px\"viewBox=\"0 0 24 24\"\n",
              "       width=\"24px\">\n",
              "    <path d=\"M0 0h24v24H0V0z\" fill=\"none\"/>\n",
              "    <path d=\"M18.56 5.44l.94 2.06.94-2.06 2.06-.94-2.06-.94-.94-2.06-.94 2.06-2.06.94zm-11 1L8.5 8.5l.94-2.06 2.06-.94-2.06-.94L8.5 2.5l-.94 2.06-2.06.94zm10 10l.94 2.06.94-2.06 2.06-.94-2.06-.94-.94-2.06-.94 2.06-2.06.94z\"/><path d=\"M17.41 7.96l-1.37-1.37c-.4-.4-.92-.59-1.43-.59-.52 0-1.04.2-1.43.59L10.3 9.45l-7.72 7.72c-.78.78-.78 2.05 0 2.83L4 21.41c.39.39.9.59 1.41.59.51 0 1.02-.2 1.41-.59l7.78-7.78 2.81-2.81c.8-.78.8-2.07 0-2.86zM5.41 20L4 18.59l7.72-7.72 1.47 1.35L5.41 20z\"/>\n",
              "  </svg>\n",
              "      </button>\n",
              "      \n",
              "  <style>\n",
              "    .colab-df-container {\n",
              "      display:flex;\n",
              "      flex-wrap:wrap;\n",
              "      gap: 12px;\n",
              "    }\n",
              "\n",
              "    .colab-df-convert {\n",
              "      background-color: #E8F0FE;\n",
              "      border: none;\n",
              "      border-radius: 50%;\n",
              "      cursor: pointer;\n",
              "      display: none;\n",
              "      fill: #1967D2;\n",
              "      height: 32px;\n",
              "      padding: 0 0 0 0;\n",
              "      width: 32px;\n",
              "    }\n",
              "\n",
              "    .colab-df-convert:hover {\n",
              "      background-color: #E2EBFA;\n",
              "      box-shadow: 0px 1px 2px rgba(60, 64, 67, 0.3), 0px 1px 3px 1px rgba(60, 64, 67, 0.15);\n",
              "      fill: #174EA6;\n",
              "    }\n",
              "\n",
              "    [theme=dark] .colab-df-convert {\n",
              "      background-color: #3B4455;\n",
              "      fill: #D2E3FC;\n",
              "    }\n",
              "\n",
              "    [theme=dark] .colab-df-convert:hover {\n",
              "      background-color: #434B5C;\n",
              "      box-shadow: 0px 1px 3px 1px rgba(0, 0, 0, 0.15);\n",
              "      filter: drop-shadow(0px 1px 2px rgba(0, 0, 0, 0.3));\n",
              "      fill: #FFFFFF;\n",
              "    }\n",
              "  </style>\n",
              "\n",
              "      <script>\n",
              "        const buttonEl =\n",
              "          document.querySelector('#df-191c53ed-2401-450c-9356-b35f580b2970 button.colab-df-convert');\n",
              "        buttonEl.style.display =\n",
              "          google.colab.kernel.accessAllowed ? 'block' : 'none';\n",
              "\n",
              "        async function convertToInteractive(key) {\n",
              "          const element = document.querySelector('#df-191c53ed-2401-450c-9356-b35f580b2970');\n",
              "          const dataTable =\n",
              "            await google.colab.kernel.invokeFunction('convertToInteractive',\n",
              "                                                     [key], {});\n",
              "          if (!dataTable) return;\n",
              "\n",
              "          const docLinkHtml = 'Like what you see? Visit the ' +\n",
              "            '<a target=\"_blank\" href=https://colab.research.google.com/notebooks/data_table.ipynb>data table notebook</a>'\n",
              "            + ' to learn more about interactive tables.';\n",
              "          element.innerHTML = '';\n",
              "          dataTable['output_type'] = 'display_data';\n",
              "          await google.colab.output.renderOutput(dataTable, element);\n",
              "          const docLink = document.createElement('div');\n",
              "          docLink.innerHTML = docLinkHtml;\n",
              "          element.appendChild(docLink);\n",
              "        }\n",
              "      </script>\n",
              "    </div>\n",
              "  </div>\n",
              "  "
            ]
          },
          "metadata": {},
          "execution_count": 37
        }
      ]
    },
    {
      "cell_type": "code",
      "source": [
        "#Estruturas de decisao - if e o else\n",
        "if tabela_indices.head(4).DAX.pct_change().mean() > 0:\n",
        "  tabela_indices[\"historico_dax\"] = \"positivo\"\n",
        "else:\n",
        "  tabela_indices[\"historico_dax\"] = \"neutro ou negativo\"\n",
        "\n",
        "tabela_indices"
      ],
      "metadata": {
        "colab": {
          "base_uri": "https://localhost:8080/",
          "height": 423
        },
        "id": "GTAxebRgeXVW",
        "outputId": "73f1856c-56ca-4c83-82cc-5efd001012d8"
      },
      "execution_count": 44,
      "outputs": [
        {
          "output_type": "execute_result",
          "data": {
            "text/plain": [
              "          DAX     SMI     CAC    FTSE       historico_dax\n",
              "0     1628.75  1678.1  1772.8  2443.6  neutro ou negativo\n",
              "1     1613.63  1688.5  1750.5  2460.2  neutro ou negativo\n",
              "2     1606.51  1678.6  1718.0  2448.2  neutro ou negativo\n",
              "3     1621.04  1684.1  1708.1  2470.4  neutro ou negativo\n",
              "4     1618.16  1686.6  1723.1  2484.7  neutro ou negativo\n",
              "...       ...     ...     ...     ...                 ...\n",
              "1855  5460.43  7721.3  3939.5  5587.6  neutro ou negativo\n",
              "1856  5285.78  7447.9  3846.0  5432.8  neutro ou negativo\n",
              "1857  5386.94  7607.5  3945.7  5462.2  neutro ou negativo\n",
              "1858  5355.03  7552.6  3951.7  5399.5  neutro ou negativo\n",
              "1859  5473.72  7676.3  3995.0  5455.0  neutro ou negativo\n",
              "\n",
              "[1860 rows x 5 columns]"
            ],
            "text/html": [
              "\n",
              "  <div id=\"df-6b351985-6563-40bf-ac4c-5de2d3cec2fa\">\n",
              "    <div class=\"colab-df-container\">\n",
              "      <div>\n",
              "<style scoped>\n",
              "    .dataframe tbody tr th:only-of-type {\n",
              "        vertical-align: middle;\n",
              "    }\n",
              "\n",
              "    .dataframe tbody tr th {\n",
              "        vertical-align: top;\n",
              "    }\n",
              "\n",
              "    .dataframe thead th {\n",
              "        text-align: right;\n",
              "    }\n",
              "</style>\n",
              "<table border=\"1\" class=\"dataframe\">\n",
              "  <thead>\n",
              "    <tr style=\"text-align: right;\">\n",
              "      <th></th>\n",
              "      <th>DAX</th>\n",
              "      <th>SMI</th>\n",
              "      <th>CAC</th>\n",
              "      <th>FTSE</th>\n",
              "      <th>historico_dax</th>\n",
              "    </tr>\n",
              "  </thead>\n",
              "  <tbody>\n",
              "    <tr>\n",
              "      <th>0</th>\n",
              "      <td>1628.75</td>\n",
              "      <td>1678.1</td>\n",
              "      <td>1772.8</td>\n",
              "      <td>2443.6</td>\n",
              "      <td>neutro ou negativo</td>\n",
              "    </tr>\n",
              "    <tr>\n",
              "      <th>1</th>\n",
              "      <td>1613.63</td>\n",
              "      <td>1688.5</td>\n",
              "      <td>1750.5</td>\n",
              "      <td>2460.2</td>\n",
              "      <td>neutro ou negativo</td>\n",
              "    </tr>\n",
              "    <tr>\n",
              "      <th>2</th>\n",
              "      <td>1606.51</td>\n",
              "      <td>1678.6</td>\n",
              "      <td>1718.0</td>\n",
              "      <td>2448.2</td>\n",
              "      <td>neutro ou negativo</td>\n",
              "    </tr>\n",
              "    <tr>\n",
              "      <th>3</th>\n",
              "      <td>1621.04</td>\n",
              "      <td>1684.1</td>\n",
              "      <td>1708.1</td>\n",
              "      <td>2470.4</td>\n",
              "      <td>neutro ou negativo</td>\n",
              "    </tr>\n",
              "    <tr>\n",
              "      <th>4</th>\n",
              "      <td>1618.16</td>\n",
              "      <td>1686.6</td>\n",
              "      <td>1723.1</td>\n",
              "      <td>2484.7</td>\n",
              "      <td>neutro ou negativo</td>\n",
              "    </tr>\n",
              "    <tr>\n",
              "      <th>...</th>\n",
              "      <td>...</td>\n",
              "      <td>...</td>\n",
              "      <td>...</td>\n",
              "      <td>...</td>\n",
              "      <td>...</td>\n",
              "    </tr>\n",
              "    <tr>\n",
              "      <th>1855</th>\n",
              "      <td>5460.43</td>\n",
              "      <td>7721.3</td>\n",
              "      <td>3939.5</td>\n",
              "      <td>5587.6</td>\n",
              "      <td>neutro ou negativo</td>\n",
              "    </tr>\n",
              "    <tr>\n",
              "      <th>1856</th>\n",
              "      <td>5285.78</td>\n",
              "      <td>7447.9</td>\n",
              "      <td>3846.0</td>\n",
              "      <td>5432.8</td>\n",
              "      <td>neutro ou negativo</td>\n",
              "    </tr>\n",
              "    <tr>\n",
              "      <th>1857</th>\n",
              "      <td>5386.94</td>\n",
              "      <td>7607.5</td>\n",
              "      <td>3945.7</td>\n",
              "      <td>5462.2</td>\n",
              "      <td>neutro ou negativo</td>\n",
              "    </tr>\n",
              "    <tr>\n",
              "      <th>1858</th>\n",
              "      <td>5355.03</td>\n",
              "      <td>7552.6</td>\n",
              "      <td>3951.7</td>\n",
              "      <td>5399.5</td>\n",
              "      <td>neutro ou negativo</td>\n",
              "    </tr>\n",
              "    <tr>\n",
              "      <th>1859</th>\n",
              "      <td>5473.72</td>\n",
              "      <td>7676.3</td>\n",
              "      <td>3995.0</td>\n",
              "      <td>5455.0</td>\n",
              "      <td>neutro ou negativo</td>\n",
              "    </tr>\n",
              "  </tbody>\n",
              "</table>\n",
              "<p>1860 rows × 5 columns</p>\n",
              "</div>\n",
              "      <button class=\"colab-df-convert\" onclick=\"convertToInteractive('df-6b351985-6563-40bf-ac4c-5de2d3cec2fa')\"\n",
              "              title=\"Convert this dataframe to an interactive table.\"\n",
              "              style=\"display:none;\">\n",
              "        \n",
              "  <svg xmlns=\"http://www.w3.org/2000/svg\" height=\"24px\"viewBox=\"0 0 24 24\"\n",
              "       width=\"24px\">\n",
              "    <path d=\"M0 0h24v24H0V0z\" fill=\"none\"/>\n",
              "    <path d=\"M18.56 5.44l.94 2.06.94-2.06 2.06-.94-2.06-.94-.94-2.06-.94 2.06-2.06.94zm-11 1L8.5 8.5l.94-2.06 2.06-.94-2.06-.94L8.5 2.5l-.94 2.06-2.06.94zm10 10l.94 2.06.94-2.06 2.06-.94-2.06-.94-.94-2.06-.94 2.06-2.06.94z\"/><path d=\"M17.41 7.96l-1.37-1.37c-.4-.4-.92-.59-1.43-.59-.52 0-1.04.2-1.43.59L10.3 9.45l-7.72 7.72c-.78.78-.78 2.05 0 2.83L4 21.41c.39.39.9.59 1.41.59.51 0 1.02-.2 1.41-.59l7.78-7.78 2.81-2.81c.8-.78.8-2.07 0-2.86zM5.41 20L4 18.59l7.72-7.72 1.47 1.35L5.41 20z\"/>\n",
              "  </svg>\n",
              "      </button>\n",
              "      \n",
              "  <style>\n",
              "    .colab-df-container {\n",
              "      display:flex;\n",
              "      flex-wrap:wrap;\n",
              "      gap: 12px;\n",
              "    }\n",
              "\n",
              "    .colab-df-convert {\n",
              "      background-color: #E8F0FE;\n",
              "      border: none;\n",
              "      border-radius: 50%;\n",
              "      cursor: pointer;\n",
              "      display: none;\n",
              "      fill: #1967D2;\n",
              "      height: 32px;\n",
              "      padding: 0 0 0 0;\n",
              "      width: 32px;\n",
              "    }\n",
              "\n",
              "    .colab-df-convert:hover {\n",
              "      background-color: #E2EBFA;\n",
              "      box-shadow: 0px 1px 2px rgba(60, 64, 67, 0.3), 0px 1px 3px 1px rgba(60, 64, 67, 0.15);\n",
              "      fill: #174EA6;\n",
              "    }\n",
              "\n",
              "    [theme=dark] .colab-df-convert {\n",
              "      background-color: #3B4455;\n",
              "      fill: #D2E3FC;\n",
              "    }\n",
              "\n",
              "    [theme=dark] .colab-df-convert:hover {\n",
              "      background-color: #434B5C;\n",
              "      box-shadow: 0px 1px 3px 1px rgba(0, 0, 0, 0.15);\n",
              "      filter: drop-shadow(0px 1px 2px rgba(0, 0, 0, 0.3));\n",
              "      fill: #FFFFFF;\n",
              "    }\n",
              "  </style>\n",
              "\n",
              "      <script>\n",
              "        const buttonEl =\n",
              "          document.querySelector('#df-6b351985-6563-40bf-ac4c-5de2d3cec2fa button.colab-df-convert');\n",
              "        buttonEl.style.display =\n",
              "          google.colab.kernel.accessAllowed ? 'block' : 'none';\n",
              "\n",
              "        async function convertToInteractive(key) {\n",
              "          const element = document.querySelector('#df-6b351985-6563-40bf-ac4c-5de2d3cec2fa');\n",
              "          const dataTable =\n",
              "            await google.colab.kernel.invokeFunction('convertToInteractive',\n",
              "                                                     [key], {});\n",
              "          if (!dataTable) return;\n",
              "\n",
              "          const docLinkHtml = 'Like what you see? Visit the ' +\n",
              "            '<a target=\"_blank\" href=https://colab.research.google.com/notebooks/data_table.ipynb>data table notebook</a>'\n",
              "            + ' to learn more about interactive tables.';\n",
              "          element.innerHTML = '';\n",
              "          dataTable['output_type'] = 'display_data';\n",
              "          await google.colab.output.renderOutput(dataTable, element);\n",
              "          const docLink = document.createElement('div');\n",
              "          docLink.innerHTML = docLinkHtml;\n",
              "          element.appendChild(docLink);\n",
              "        }\n",
              "      </script>\n",
              "    </div>\n",
              "  </div>\n",
              "  "
            ]
          },
          "metadata": {},
          "execution_count": 44
        }
      ]
    },
    {
      "cell_type": "code",
      "source": [
        "#utilizando o elif\n",
        "if tabela_indices.head(4).DAX.pct_change().mean() > 0:\n",
        "  tabela_indices[\"historico_dax\"] = \"positivo\"\n",
        "elif tabela_indices.head(4).DAX.pct_change().mean() == 0:\n",
        "  tabela_indices[\"historico_dax\"] = \"neutro\"\n",
        "else: \n",
        "  tabela_indices[\"historico_dax\"] = \"negativo\"\n",
        "\n",
        "tabela_indices"
      ],
      "metadata": {
        "colab": {
          "base_uri": "https://localhost:8080/",
          "height": 423
        },
        "id": "Jw-kyqJWiF9k",
        "outputId": "b26d5e2e-9c60-40c9-ef77-e46c03414a05"
      },
      "execution_count": 45,
      "outputs": [
        {
          "output_type": "execute_result",
          "data": {
            "text/plain": [
              "          DAX     SMI     CAC    FTSE historico_dax\n",
              "0     1628.75  1678.1  1772.8  2443.6      negativo\n",
              "1     1613.63  1688.5  1750.5  2460.2      negativo\n",
              "2     1606.51  1678.6  1718.0  2448.2      negativo\n",
              "3     1621.04  1684.1  1708.1  2470.4      negativo\n",
              "4     1618.16  1686.6  1723.1  2484.7      negativo\n",
              "...       ...     ...     ...     ...           ...\n",
              "1855  5460.43  7721.3  3939.5  5587.6      negativo\n",
              "1856  5285.78  7447.9  3846.0  5432.8      negativo\n",
              "1857  5386.94  7607.5  3945.7  5462.2      negativo\n",
              "1858  5355.03  7552.6  3951.7  5399.5      negativo\n",
              "1859  5473.72  7676.3  3995.0  5455.0      negativo\n",
              "\n",
              "[1860 rows x 5 columns]"
            ],
            "text/html": [
              "\n",
              "  <div id=\"df-b0309c44-251a-400f-a545-959dfaaebe04\">\n",
              "    <div class=\"colab-df-container\">\n",
              "      <div>\n",
              "<style scoped>\n",
              "    .dataframe tbody tr th:only-of-type {\n",
              "        vertical-align: middle;\n",
              "    }\n",
              "\n",
              "    .dataframe tbody tr th {\n",
              "        vertical-align: top;\n",
              "    }\n",
              "\n",
              "    .dataframe thead th {\n",
              "        text-align: right;\n",
              "    }\n",
              "</style>\n",
              "<table border=\"1\" class=\"dataframe\">\n",
              "  <thead>\n",
              "    <tr style=\"text-align: right;\">\n",
              "      <th></th>\n",
              "      <th>DAX</th>\n",
              "      <th>SMI</th>\n",
              "      <th>CAC</th>\n",
              "      <th>FTSE</th>\n",
              "      <th>historico_dax</th>\n",
              "    </tr>\n",
              "  </thead>\n",
              "  <tbody>\n",
              "    <tr>\n",
              "      <th>0</th>\n",
              "      <td>1628.75</td>\n",
              "      <td>1678.1</td>\n",
              "      <td>1772.8</td>\n",
              "      <td>2443.6</td>\n",
              "      <td>negativo</td>\n",
              "    </tr>\n",
              "    <tr>\n",
              "      <th>1</th>\n",
              "      <td>1613.63</td>\n",
              "      <td>1688.5</td>\n",
              "      <td>1750.5</td>\n",
              "      <td>2460.2</td>\n",
              "      <td>negativo</td>\n",
              "    </tr>\n",
              "    <tr>\n",
              "      <th>2</th>\n",
              "      <td>1606.51</td>\n",
              "      <td>1678.6</td>\n",
              "      <td>1718.0</td>\n",
              "      <td>2448.2</td>\n",
              "      <td>negativo</td>\n",
              "    </tr>\n",
              "    <tr>\n",
              "      <th>3</th>\n",
              "      <td>1621.04</td>\n",
              "      <td>1684.1</td>\n",
              "      <td>1708.1</td>\n",
              "      <td>2470.4</td>\n",
              "      <td>negativo</td>\n",
              "    </tr>\n",
              "    <tr>\n",
              "      <th>4</th>\n",
              "      <td>1618.16</td>\n",
              "      <td>1686.6</td>\n",
              "      <td>1723.1</td>\n",
              "      <td>2484.7</td>\n",
              "      <td>negativo</td>\n",
              "    </tr>\n",
              "    <tr>\n",
              "      <th>...</th>\n",
              "      <td>...</td>\n",
              "      <td>...</td>\n",
              "      <td>...</td>\n",
              "      <td>...</td>\n",
              "      <td>...</td>\n",
              "    </tr>\n",
              "    <tr>\n",
              "      <th>1855</th>\n",
              "      <td>5460.43</td>\n",
              "      <td>7721.3</td>\n",
              "      <td>3939.5</td>\n",
              "      <td>5587.6</td>\n",
              "      <td>negativo</td>\n",
              "    </tr>\n",
              "    <tr>\n",
              "      <th>1856</th>\n",
              "      <td>5285.78</td>\n",
              "      <td>7447.9</td>\n",
              "      <td>3846.0</td>\n",
              "      <td>5432.8</td>\n",
              "      <td>negativo</td>\n",
              "    </tr>\n",
              "    <tr>\n",
              "      <th>1857</th>\n",
              "      <td>5386.94</td>\n",
              "      <td>7607.5</td>\n",
              "      <td>3945.7</td>\n",
              "      <td>5462.2</td>\n",
              "      <td>negativo</td>\n",
              "    </tr>\n",
              "    <tr>\n",
              "      <th>1858</th>\n",
              "      <td>5355.03</td>\n",
              "      <td>7552.6</td>\n",
              "      <td>3951.7</td>\n",
              "      <td>5399.5</td>\n",
              "      <td>negativo</td>\n",
              "    </tr>\n",
              "    <tr>\n",
              "      <th>1859</th>\n",
              "      <td>5473.72</td>\n",
              "      <td>7676.3</td>\n",
              "      <td>3995.0</td>\n",
              "      <td>5455.0</td>\n",
              "      <td>negativo</td>\n",
              "    </tr>\n",
              "  </tbody>\n",
              "</table>\n",
              "<p>1860 rows × 5 columns</p>\n",
              "</div>\n",
              "      <button class=\"colab-df-convert\" onclick=\"convertToInteractive('df-b0309c44-251a-400f-a545-959dfaaebe04')\"\n",
              "              title=\"Convert this dataframe to an interactive table.\"\n",
              "              style=\"display:none;\">\n",
              "        \n",
              "  <svg xmlns=\"http://www.w3.org/2000/svg\" height=\"24px\"viewBox=\"0 0 24 24\"\n",
              "       width=\"24px\">\n",
              "    <path d=\"M0 0h24v24H0V0z\" fill=\"none\"/>\n",
              "    <path d=\"M18.56 5.44l.94 2.06.94-2.06 2.06-.94-2.06-.94-.94-2.06-.94 2.06-2.06.94zm-11 1L8.5 8.5l.94-2.06 2.06-.94-2.06-.94L8.5 2.5l-.94 2.06-2.06.94zm10 10l.94 2.06.94-2.06 2.06-.94-2.06-.94-.94-2.06-.94 2.06-2.06.94z\"/><path d=\"M17.41 7.96l-1.37-1.37c-.4-.4-.92-.59-1.43-.59-.52 0-1.04.2-1.43.59L10.3 9.45l-7.72 7.72c-.78.78-.78 2.05 0 2.83L4 21.41c.39.39.9.59 1.41.59.51 0 1.02-.2 1.41-.59l7.78-7.78 2.81-2.81c.8-.78.8-2.07 0-2.86zM5.41 20L4 18.59l7.72-7.72 1.47 1.35L5.41 20z\"/>\n",
              "  </svg>\n",
              "      </button>\n",
              "      \n",
              "  <style>\n",
              "    .colab-df-container {\n",
              "      display:flex;\n",
              "      flex-wrap:wrap;\n",
              "      gap: 12px;\n",
              "    }\n",
              "\n",
              "    .colab-df-convert {\n",
              "      background-color: #E8F0FE;\n",
              "      border: none;\n",
              "      border-radius: 50%;\n",
              "      cursor: pointer;\n",
              "      display: none;\n",
              "      fill: #1967D2;\n",
              "      height: 32px;\n",
              "      padding: 0 0 0 0;\n",
              "      width: 32px;\n",
              "    }\n",
              "\n",
              "    .colab-df-convert:hover {\n",
              "      background-color: #E2EBFA;\n",
              "      box-shadow: 0px 1px 2px rgba(60, 64, 67, 0.3), 0px 1px 3px 1px rgba(60, 64, 67, 0.15);\n",
              "      fill: #174EA6;\n",
              "    }\n",
              "\n",
              "    [theme=dark] .colab-df-convert {\n",
              "      background-color: #3B4455;\n",
              "      fill: #D2E3FC;\n",
              "    }\n",
              "\n",
              "    [theme=dark] .colab-df-convert:hover {\n",
              "      background-color: #434B5C;\n",
              "      box-shadow: 0px 1px 3px 1px rgba(0, 0, 0, 0.15);\n",
              "      filter: drop-shadow(0px 1px 2px rgba(0, 0, 0, 0.3));\n",
              "      fill: #FFFFFF;\n",
              "    }\n",
              "  </style>\n",
              "\n",
              "      <script>\n",
              "        const buttonEl =\n",
              "          document.querySelector('#df-b0309c44-251a-400f-a545-959dfaaebe04 button.colab-df-convert');\n",
              "        buttonEl.style.display =\n",
              "          google.colab.kernel.accessAllowed ? 'block' : 'none';\n",
              "\n",
              "        async function convertToInteractive(key) {\n",
              "          const element = document.querySelector('#df-b0309c44-251a-400f-a545-959dfaaebe04');\n",
              "          const dataTable =\n",
              "            await google.colab.kernel.invokeFunction('convertToInteractive',\n",
              "                                                     [key], {});\n",
              "          if (!dataTable) return;\n",
              "\n",
              "          const docLinkHtml = 'Like what you see? Visit the ' +\n",
              "            '<a target=\"_blank\" href=https://colab.research.google.com/notebooks/data_table.ipynb>data table notebook</a>'\n",
              "            + ' to learn more about interactive tables.';\n",
              "          element.innerHTML = '';\n",
              "          dataTable['output_type'] = 'display_data';\n",
              "          await google.colab.output.renderOutput(dataTable, element);\n",
              "          const docLink = document.createElement('div');\n",
              "          docLink.innerHTML = docLinkHtml;\n",
              "          element.appendChild(docLink);\n",
              "        }\n",
              "      </script>\n",
              "    </div>\n",
              "  </div>\n",
              "  "
            ]
          },
          "metadata": {},
          "execution_count": 45
        }
      ]
    },
    {
      "cell_type": "markdown",
      "source": [
        "####Repetição\n",
        "Usamos quando estivermos aplicando uma função para vários grupos de dados. Por exemplo, para várias colunas"
      ],
      "metadata": {
        "id": "oTfITFQQjEOS"
      }
    },
    {
      "cell_type": "code",
      "source": [
        "#ex: calcular a funcao \"normalizar\" (que fizemos acima) para cada coluna da base de dados, em vez de uma coluna por vez\n",
        "def normalizar(x):\n",
        "  x_min = x.min(skipna = True)\n",
        "  return (x - x_min) / (x.max(skipna = True) - x_min) "
      ],
      "metadata": {
        "id": "gyDZS7Noi-Qu"
      },
      "execution_count": 46,
      "outputs": []
    },
    {
      "cell_type": "code",
      "source": [
        "tabela_indices = datasets.get_rdataset(\"EuStockMarkets\").data\n",
        "tabela_indices"
      ],
      "metadata": {
        "colab": {
          "base_uri": "https://localhost:8080/",
          "height": 423
        },
        "id": "NF7UFp_AkUuU",
        "outputId": "7cf43bc4-91c8-4f6e-89e9-bdc1b96c4eb8"
      },
      "execution_count": 47,
      "outputs": [
        {
          "output_type": "execute_result",
          "data": {
            "text/plain": [
              "          DAX     SMI     CAC    FTSE\n",
              "0     1628.75  1678.1  1772.8  2443.6\n",
              "1     1613.63  1688.5  1750.5  2460.2\n",
              "2     1606.51  1678.6  1718.0  2448.2\n",
              "3     1621.04  1684.1  1708.1  2470.4\n",
              "4     1618.16  1686.6  1723.1  2484.7\n",
              "...       ...     ...     ...     ...\n",
              "1855  5460.43  7721.3  3939.5  5587.6\n",
              "1856  5285.78  7447.9  3846.0  5432.8\n",
              "1857  5386.94  7607.5  3945.7  5462.2\n",
              "1858  5355.03  7552.6  3951.7  5399.5\n",
              "1859  5473.72  7676.3  3995.0  5455.0\n",
              "\n",
              "[1860 rows x 4 columns]"
            ],
            "text/html": [
              "\n",
              "  <div id=\"df-5553a0d4-17f6-46d8-ba4b-143d59d73187\">\n",
              "    <div class=\"colab-df-container\">\n",
              "      <div>\n",
              "<style scoped>\n",
              "    .dataframe tbody tr th:only-of-type {\n",
              "        vertical-align: middle;\n",
              "    }\n",
              "\n",
              "    .dataframe tbody tr th {\n",
              "        vertical-align: top;\n",
              "    }\n",
              "\n",
              "    .dataframe thead th {\n",
              "        text-align: right;\n",
              "    }\n",
              "</style>\n",
              "<table border=\"1\" class=\"dataframe\">\n",
              "  <thead>\n",
              "    <tr style=\"text-align: right;\">\n",
              "      <th></th>\n",
              "      <th>DAX</th>\n",
              "      <th>SMI</th>\n",
              "      <th>CAC</th>\n",
              "      <th>FTSE</th>\n",
              "    </tr>\n",
              "  </thead>\n",
              "  <tbody>\n",
              "    <tr>\n",
              "      <th>0</th>\n",
              "      <td>1628.75</td>\n",
              "      <td>1678.1</td>\n",
              "      <td>1772.8</td>\n",
              "      <td>2443.6</td>\n",
              "    </tr>\n",
              "    <tr>\n",
              "      <th>1</th>\n",
              "      <td>1613.63</td>\n",
              "      <td>1688.5</td>\n",
              "      <td>1750.5</td>\n",
              "      <td>2460.2</td>\n",
              "    </tr>\n",
              "    <tr>\n",
              "      <th>2</th>\n",
              "      <td>1606.51</td>\n",
              "      <td>1678.6</td>\n",
              "      <td>1718.0</td>\n",
              "      <td>2448.2</td>\n",
              "    </tr>\n",
              "    <tr>\n",
              "      <th>3</th>\n",
              "      <td>1621.04</td>\n",
              "      <td>1684.1</td>\n",
              "      <td>1708.1</td>\n",
              "      <td>2470.4</td>\n",
              "    </tr>\n",
              "    <tr>\n",
              "      <th>4</th>\n",
              "      <td>1618.16</td>\n",
              "      <td>1686.6</td>\n",
              "      <td>1723.1</td>\n",
              "      <td>2484.7</td>\n",
              "    </tr>\n",
              "    <tr>\n",
              "      <th>...</th>\n",
              "      <td>...</td>\n",
              "      <td>...</td>\n",
              "      <td>...</td>\n",
              "      <td>...</td>\n",
              "    </tr>\n",
              "    <tr>\n",
              "      <th>1855</th>\n",
              "      <td>5460.43</td>\n",
              "      <td>7721.3</td>\n",
              "      <td>3939.5</td>\n",
              "      <td>5587.6</td>\n",
              "    </tr>\n",
              "    <tr>\n",
              "      <th>1856</th>\n",
              "      <td>5285.78</td>\n",
              "      <td>7447.9</td>\n",
              "      <td>3846.0</td>\n",
              "      <td>5432.8</td>\n",
              "    </tr>\n",
              "    <tr>\n",
              "      <th>1857</th>\n",
              "      <td>5386.94</td>\n",
              "      <td>7607.5</td>\n",
              "      <td>3945.7</td>\n",
              "      <td>5462.2</td>\n",
              "    </tr>\n",
              "    <tr>\n",
              "      <th>1858</th>\n",
              "      <td>5355.03</td>\n",
              "      <td>7552.6</td>\n",
              "      <td>3951.7</td>\n",
              "      <td>5399.5</td>\n",
              "    </tr>\n",
              "    <tr>\n",
              "      <th>1859</th>\n",
              "      <td>5473.72</td>\n",
              "      <td>7676.3</td>\n",
              "      <td>3995.0</td>\n",
              "      <td>5455.0</td>\n",
              "    </tr>\n",
              "  </tbody>\n",
              "</table>\n",
              "<p>1860 rows × 4 columns</p>\n",
              "</div>\n",
              "      <button class=\"colab-df-convert\" onclick=\"convertToInteractive('df-5553a0d4-17f6-46d8-ba4b-143d59d73187')\"\n",
              "              title=\"Convert this dataframe to an interactive table.\"\n",
              "              style=\"display:none;\">\n",
              "        \n",
              "  <svg xmlns=\"http://www.w3.org/2000/svg\" height=\"24px\"viewBox=\"0 0 24 24\"\n",
              "       width=\"24px\">\n",
              "    <path d=\"M0 0h24v24H0V0z\" fill=\"none\"/>\n",
              "    <path d=\"M18.56 5.44l.94 2.06.94-2.06 2.06-.94-2.06-.94-.94-2.06-.94 2.06-2.06.94zm-11 1L8.5 8.5l.94-2.06 2.06-.94-2.06-.94L8.5 2.5l-.94 2.06-2.06.94zm10 10l.94 2.06.94-2.06 2.06-.94-2.06-.94-.94-2.06-.94 2.06-2.06.94z\"/><path d=\"M17.41 7.96l-1.37-1.37c-.4-.4-.92-.59-1.43-.59-.52 0-1.04.2-1.43.59L10.3 9.45l-7.72 7.72c-.78.78-.78 2.05 0 2.83L4 21.41c.39.39.9.59 1.41.59.51 0 1.02-.2 1.41-.59l7.78-7.78 2.81-2.81c.8-.78.8-2.07 0-2.86zM5.41 20L4 18.59l7.72-7.72 1.47 1.35L5.41 20z\"/>\n",
              "  </svg>\n",
              "      </button>\n",
              "      \n",
              "  <style>\n",
              "    .colab-df-container {\n",
              "      display:flex;\n",
              "      flex-wrap:wrap;\n",
              "      gap: 12px;\n",
              "    }\n",
              "\n",
              "    .colab-df-convert {\n",
              "      background-color: #E8F0FE;\n",
              "      border: none;\n",
              "      border-radius: 50%;\n",
              "      cursor: pointer;\n",
              "      display: none;\n",
              "      fill: #1967D2;\n",
              "      height: 32px;\n",
              "      padding: 0 0 0 0;\n",
              "      width: 32px;\n",
              "    }\n",
              "\n",
              "    .colab-df-convert:hover {\n",
              "      background-color: #E2EBFA;\n",
              "      box-shadow: 0px 1px 2px rgba(60, 64, 67, 0.3), 0px 1px 3px 1px rgba(60, 64, 67, 0.15);\n",
              "      fill: #174EA6;\n",
              "    }\n",
              "\n",
              "    [theme=dark] .colab-df-convert {\n",
              "      background-color: #3B4455;\n",
              "      fill: #D2E3FC;\n",
              "    }\n",
              "\n",
              "    [theme=dark] .colab-df-convert:hover {\n",
              "      background-color: #434B5C;\n",
              "      box-shadow: 0px 1px 3px 1px rgba(0, 0, 0, 0.15);\n",
              "      filter: drop-shadow(0px 1px 2px rgba(0, 0, 0, 0.3));\n",
              "      fill: #FFFFFF;\n",
              "    }\n",
              "  </style>\n",
              "\n",
              "      <script>\n",
              "        const buttonEl =\n",
              "          document.querySelector('#df-5553a0d4-17f6-46d8-ba4b-143d59d73187 button.colab-df-convert');\n",
              "        buttonEl.style.display =\n",
              "          google.colab.kernel.accessAllowed ? 'block' : 'none';\n",
              "\n",
              "        async function convertToInteractive(key) {\n",
              "          const element = document.querySelector('#df-5553a0d4-17f6-46d8-ba4b-143d59d73187');\n",
              "          const dataTable =\n",
              "            await google.colab.kernel.invokeFunction('convertToInteractive',\n",
              "                                                     [key], {});\n",
              "          if (!dataTable) return;\n",
              "\n",
              "          const docLinkHtml = 'Like what you see? Visit the ' +\n",
              "            '<a target=\"_blank\" href=https://colab.research.google.com/notebooks/data_table.ipynb>data table notebook</a>'\n",
              "            + ' to learn more about interactive tables.';\n",
              "          element.innerHTML = '';\n",
              "          dataTable['output_type'] = 'display_data';\n",
              "          await google.colab.output.renderOutput(dataTable, element);\n",
              "          const docLink = document.createElement('div');\n",
              "          docLink.innerHTML = docLinkHtml;\n",
              "          element.appendChild(docLink);\n",
              "        }\n",
              "      </script>\n",
              "    </div>\n",
              "  </div>\n",
              "  "
            ]
          },
          "metadata": {},
          "execution_count": 47
        }
      ]
    },
    {
      "cell_type": "code",
      "source": [
        "#utilizando o or para repetir a função sobre as colunas da tabela\n",
        "#\"i\" é o iterador em geral\n",
        "#primeiro, vamos ver quais sao as colunas\n",
        "tabela_indices.columns \n",
        "#fazendo a iteração, mas sem salvar as mudanças na tabela\n",
        "for(coluna) in tabela_indices.columns:\n",
        "  normalizar(tabela_indices[coluna])\n",
        "\n",
        "#fazendo a iteração, salvando as mudanças na tabela\n",
        "for(coluna) in tabela_indices.columns:\n",
        "  tabela_indices[coluna] = normalizar(tabela_indices[coluna])\n",
        "\n",
        "tabela_indices"
      ],
      "metadata": {
        "colab": {
          "base_uri": "https://localhost:8080/",
          "height": 423
        },
        "id": "GmlMGJ3dklON",
        "outputId": "01bb13d8-35d8-4f41-8c20-e16c7634118a"
      },
      "execution_count": 54,
      "outputs": [
        {
          "output_type": "execute_result",
          "data": {
            "text/plain": [
              "           DAX       SMI       CAC      FTSE\n",
              "0     0.047329  0.013290  0.058254  0.041714\n",
              "1     0.044168  0.014814  0.050225  0.045972\n",
              "2     0.042680  0.013363  0.038524  0.042894\n",
              "3     0.045717  0.014169  0.034959  0.048589\n",
              "4     0.045115  0.014536  0.040360  0.052258\n",
              "...        ...       ...       ...       ...\n",
              "1855  0.848307  0.898793  0.838344  0.848281\n",
              "1856  0.811798  0.858732  0.804680  0.808568\n",
              "1857  0.832945  0.882118  0.840576  0.816111\n",
              "1858  0.826274  0.874073  0.842736  0.800026\n",
              "1859  0.851085  0.892199  0.858326  0.814264\n",
              "\n",
              "[1860 rows x 4 columns]"
            ],
            "text/html": [
              "\n",
              "  <div id=\"df-1803ca3d-ba8b-41db-93b7-e7b6ac60df97\">\n",
              "    <div class=\"colab-df-container\">\n",
              "      <div>\n",
              "<style scoped>\n",
              "    .dataframe tbody tr th:only-of-type {\n",
              "        vertical-align: middle;\n",
              "    }\n",
              "\n",
              "    .dataframe tbody tr th {\n",
              "        vertical-align: top;\n",
              "    }\n",
              "\n",
              "    .dataframe thead th {\n",
              "        text-align: right;\n",
              "    }\n",
              "</style>\n",
              "<table border=\"1\" class=\"dataframe\">\n",
              "  <thead>\n",
              "    <tr style=\"text-align: right;\">\n",
              "      <th></th>\n",
              "      <th>DAX</th>\n",
              "      <th>SMI</th>\n",
              "      <th>CAC</th>\n",
              "      <th>FTSE</th>\n",
              "    </tr>\n",
              "  </thead>\n",
              "  <tbody>\n",
              "    <tr>\n",
              "      <th>0</th>\n",
              "      <td>0.047329</td>\n",
              "      <td>0.013290</td>\n",
              "      <td>0.058254</td>\n",
              "      <td>0.041714</td>\n",
              "    </tr>\n",
              "    <tr>\n",
              "      <th>1</th>\n",
              "      <td>0.044168</td>\n",
              "      <td>0.014814</td>\n",
              "      <td>0.050225</td>\n",
              "      <td>0.045972</td>\n",
              "    </tr>\n",
              "    <tr>\n",
              "      <th>2</th>\n",
              "      <td>0.042680</td>\n",
              "      <td>0.013363</td>\n",
              "      <td>0.038524</td>\n",
              "      <td>0.042894</td>\n",
              "    </tr>\n",
              "    <tr>\n",
              "      <th>3</th>\n",
              "      <td>0.045717</td>\n",
              "      <td>0.014169</td>\n",
              "      <td>0.034959</td>\n",
              "      <td>0.048589</td>\n",
              "    </tr>\n",
              "    <tr>\n",
              "      <th>4</th>\n",
              "      <td>0.045115</td>\n",
              "      <td>0.014536</td>\n",
              "      <td>0.040360</td>\n",
              "      <td>0.052258</td>\n",
              "    </tr>\n",
              "    <tr>\n",
              "      <th>...</th>\n",
              "      <td>...</td>\n",
              "      <td>...</td>\n",
              "      <td>...</td>\n",
              "      <td>...</td>\n",
              "    </tr>\n",
              "    <tr>\n",
              "      <th>1855</th>\n",
              "      <td>0.848307</td>\n",
              "      <td>0.898793</td>\n",
              "      <td>0.838344</td>\n",
              "      <td>0.848281</td>\n",
              "    </tr>\n",
              "    <tr>\n",
              "      <th>1856</th>\n",
              "      <td>0.811798</td>\n",
              "      <td>0.858732</td>\n",
              "      <td>0.804680</td>\n",
              "      <td>0.808568</td>\n",
              "    </tr>\n",
              "    <tr>\n",
              "      <th>1857</th>\n",
              "      <td>0.832945</td>\n",
              "      <td>0.882118</td>\n",
              "      <td>0.840576</td>\n",
              "      <td>0.816111</td>\n",
              "    </tr>\n",
              "    <tr>\n",
              "      <th>1858</th>\n",
              "      <td>0.826274</td>\n",
              "      <td>0.874073</td>\n",
              "      <td>0.842736</td>\n",
              "      <td>0.800026</td>\n",
              "    </tr>\n",
              "    <tr>\n",
              "      <th>1859</th>\n",
              "      <td>0.851085</td>\n",
              "      <td>0.892199</td>\n",
              "      <td>0.858326</td>\n",
              "      <td>0.814264</td>\n",
              "    </tr>\n",
              "  </tbody>\n",
              "</table>\n",
              "<p>1860 rows × 4 columns</p>\n",
              "</div>\n",
              "      <button class=\"colab-df-convert\" onclick=\"convertToInteractive('df-1803ca3d-ba8b-41db-93b7-e7b6ac60df97')\"\n",
              "              title=\"Convert this dataframe to an interactive table.\"\n",
              "              style=\"display:none;\">\n",
              "        \n",
              "  <svg xmlns=\"http://www.w3.org/2000/svg\" height=\"24px\"viewBox=\"0 0 24 24\"\n",
              "       width=\"24px\">\n",
              "    <path d=\"M0 0h24v24H0V0z\" fill=\"none\"/>\n",
              "    <path d=\"M18.56 5.44l.94 2.06.94-2.06 2.06-.94-2.06-.94-.94-2.06-.94 2.06-2.06.94zm-11 1L8.5 8.5l.94-2.06 2.06-.94-2.06-.94L8.5 2.5l-.94 2.06-2.06.94zm10 10l.94 2.06.94-2.06 2.06-.94-2.06-.94-.94-2.06-.94 2.06-2.06.94z\"/><path d=\"M17.41 7.96l-1.37-1.37c-.4-.4-.92-.59-1.43-.59-.52 0-1.04.2-1.43.59L10.3 9.45l-7.72 7.72c-.78.78-.78 2.05 0 2.83L4 21.41c.39.39.9.59 1.41.59.51 0 1.02-.2 1.41-.59l7.78-7.78 2.81-2.81c.8-.78.8-2.07 0-2.86zM5.41 20L4 18.59l7.72-7.72 1.47 1.35L5.41 20z\"/>\n",
              "  </svg>\n",
              "      </button>\n",
              "      \n",
              "  <style>\n",
              "    .colab-df-container {\n",
              "      display:flex;\n",
              "      flex-wrap:wrap;\n",
              "      gap: 12px;\n",
              "    }\n",
              "\n",
              "    .colab-df-convert {\n",
              "      background-color: #E8F0FE;\n",
              "      border: none;\n",
              "      border-radius: 50%;\n",
              "      cursor: pointer;\n",
              "      display: none;\n",
              "      fill: #1967D2;\n",
              "      height: 32px;\n",
              "      padding: 0 0 0 0;\n",
              "      width: 32px;\n",
              "    }\n",
              "\n",
              "    .colab-df-convert:hover {\n",
              "      background-color: #E2EBFA;\n",
              "      box-shadow: 0px 1px 2px rgba(60, 64, 67, 0.3), 0px 1px 3px 1px rgba(60, 64, 67, 0.15);\n",
              "      fill: #174EA6;\n",
              "    }\n",
              "\n",
              "    [theme=dark] .colab-df-convert {\n",
              "      background-color: #3B4455;\n",
              "      fill: #D2E3FC;\n",
              "    }\n",
              "\n",
              "    [theme=dark] .colab-df-convert:hover {\n",
              "      background-color: #434B5C;\n",
              "      box-shadow: 0px 1px 3px 1px rgba(0, 0, 0, 0.15);\n",
              "      filter: drop-shadow(0px 1px 2px rgba(0, 0, 0, 0.3));\n",
              "      fill: #FFFFFF;\n",
              "    }\n",
              "  </style>\n",
              "\n",
              "      <script>\n",
              "        const buttonEl =\n",
              "          document.querySelector('#df-1803ca3d-ba8b-41db-93b7-e7b6ac60df97 button.colab-df-convert');\n",
              "        buttonEl.style.display =\n",
              "          google.colab.kernel.accessAllowed ? 'block' : 'none';\n",
              "\n",
              "        async function convertToInteractive(key) {\n",
              "          const element = document.querySelector('#df-1803ca3d-ba8b-41db-93b7-e7b6ac60df97');\n",
              "          const dataTable =\n",
              "            await google.colab.kernel.invokeFunction('convertToInteractive',\n",
              "                                                     [key], {});\n",
              "          if (!dataTable) return;\n",
              "\n",
              "          const docLinkHtml = 'Like what you see? Visit the ' +\n",
              "            '<a target=\"_blank\" href=https://colab.research.google.com/notebooks/data_table.ipynb>data table notebook</a>'\n",
              "            + ' to learn more about interactive tables.';\n",
              "          element.innerHTML = '';\n",
              "          dataTable['output_type'] = 'display_data';\n",
              "          await google.colab.output.renderOutput(dataTable, element);\n",
              "          const docLink = document.createElement('div');\n",
              "          docLink.innerHTML = docLinkHtml;\n",
              "          element.appendChild(docLink);\n",
              "        }\n",
              "      </script>\n",
              "    </div>\n",
              "  </div>\n",
              "  "
            ]
          },
          "metadata": {},
          "execution_count": 54
        }
      ]
    },
    {
      "cell_type": "code",
      "source": [
        "#repetição utilizando a função map para repetrir a função sobre as colunas da tabela\n",
        "tabela_indices = datasets.get_rdataset(\"EuStockMarkets\").data\n",
        "tabela_indices\n",
        "\n",
        "#regra geral: map(lambda argumento: funcao_a_ser_iterada, base_de_dados_onde_a_funcao_será_aplicada)\n",
        "map(lambda x: normalizar(tabela_indices[x]), tabela_indices.columns)"
      ],
      "metadata": {
        "colab": {
          "base_uri": "https://localhost:8080/"
        },
        "id": "YW9zuN33mj5Z",
        "outputId": "bd4f205d-7970-463b-f796-2cad0e53ac1b"
      },
      "execution_count": 55,
      "outputs": [
        {
          "output_type": "execute_result",
          "data": {
            "text/plain": [
              "<map at 0x7fd546f8ceb0>"
            ]
          },
          "metadata": {},
          "execution_count": 55
        }
      ]
    },
    {
      "cell_type": "code",
      "source": [
        "#precisamos transformar o tipo de objeto (\"map\") cuspido pela funcao no objeto que desejamos (no caso, um dataframe). O \".T\" é para transpor\n",
        "pd.DataFrame(map(lambda x: normalizar(tabela_indices[x]), tabela_indices.columns)).T"
      ],
      "metadata": {
        "colab": {
          "base_uri": "https://localhost:8080/",
          "height": 423
        },
        "id": "fUTsq8hQnx4W",
        "outputId": "004b9c7a-a456-4b6c-d1c2-726621f628e2"
      },
      "execution_count": 57,
      "outputs": [
        {
          "output_type": "execute_result",
          "data": {
            "text/plain": [
              "           DAX       SMI       CAC      FTSE\n",
              "0     0.047329  0.013290  0.058254  0.041714\n",
              "1     0.044168  0.014814  0.050225  0.045972\n",
              "2     0.042680  0.013363  0.038524  0.042894\n",
              "3     0.045717  0.014169  0.034959  0.048589\n",
              "4     0.045115  0.014536  0.040360  0.052258\n",
              "...        ...       ...       ...       ...\n",
              "1855  0.848307  0.898793  0.838344  0.848281\n",
              "1856  0.811798  0.858732  0.804680  0.808568\n",
              "1857  0.832945  0.882118  0.840576  0.816111\n",
              "1858  0.826274  0.874073  0.842736  0.800026\n",
              "1859  0.851085  0.892199  0.858326  0.814264\n",
              "\n",
              "[1860 rows x 4 columns]"
            ],
            "text/html": [
              "\n",
              "  <div id=\"df-27db8050-6ec7-4c99-892d-0815427d9faf\">\n",
              "    <div class=\"colab-df-container\">\n",
              "      <div>\n",
              "<style scoped>\n",
              "    .dataframe tbody tr th:only-of-type {\n",
              "        vertical-align: middle;\n",
              "    }\n",
              "\n",
              "    .dataframe tbody tr th {\n",
              "        vertical-align: top;\n",
              "    }\n",
              "\n",
              "    .dataframe thead th {\n",
              "        text-align: right;\n",
              "    }\n",
              "</style>\n",
              "<table border=\"1\" class=\"dataframe\">\n",
              "  <thead>\n",
              "    <tr style=\"text-align: right;\">\n",
              "      <th></th>\n",
              "      <th>DAX</th>\n",
              "      <th>SMI</th>\n",
              "      <th>CAC</th>\n",
              "      <th>FTSE</th>\n",
              "    </tr>\n",
              "  </thead>\n",
              "  <tbody>\n",
              "    <tr>\n",
              "      <th>0</th>\n",
              "      <td>0.047329</td>\n",
              "      <td>0.013290</td>\n",
              "      <td>0.058254</td>\n",
              "      <td>0.041714</td>\n",
              "    </tr>\n",
              "    <tr>\n",
              "      <th>1</th>\n",
              "      <td>0.044168</td>\n",
              "      <td>0.014814</td>\n",
              "      <td>0.050225</td>\n",
              "      <td>0.045972</td>\n",
              "    </tr>\n",
              "    <tr>\n",
              "      <th>2</th>\n",
              "      <td>0.042680</td>\n",
              "      <td>0.013363</td>\n",
              "      <td>0.038524</td>\n",
              "      <td>0.042894</td>\n",
              "    </tr>\n",
              "    <tr>\n",
              "      <th>3</th>\n",
              "      <td>0.045717</td>\n",
              "      <td>0.014169</td>\n",
              "      <td>0.034959</td>\n",
              "      <td>0.048589</td>\n",
              "    </tr>\n",
              "    <tr>\n",
              "      <th>4</th>\n",
              "      <td>0.045115</td>\n",
              "      <td>0.014536</td>\n",
              "      <td>0.040360</td>\n",
              "      <td>0.052258</td>\n",
              "    </tr>\n",
              "    <tr>\n",
              "      <th>...</th>\n",
              "      <td>...</td>\n",
              "      <td>...</td>\n",
              "      <td>...</td>\n",
              "      <td>...</td>\n",
              "    </tr>\n",
              "    <tr>\n",
              "      <th>1855</th>\n",
              "      <td>0.848307</td>\n",
              "      <td>0.898793</td>\n",
              "      <td>0.838344</td>\n",
              "      <td>0.848281</td>\n",
              "    </tr>\n",
              "    <tr>\n",
              "      <th>1856</th>\n",
              "      <td>0.811798</td>\n",
              "      <td>0.858732</td>\n",
              "      <td>0.804680</td>\n",
              "      <td>0.808568</td>\n",
              "    </tr>\n",
              "    <tr>\n",
              "      <th>1857</th>\n",
              "      <td>0.832945</td>\n",
              "      <td>0.882118</td>\n",
              "      <td>0.840576</td>\n",
              "      <td>0.816111</td>\n",
              "    </tr>\n",
              "    <tr>\n",
              "      <th>1858</th>\n",
              "      <td>0.826274</td>\n",
              "      <td>0.874073</td>\n",
              "      <td>0.842736</td>\n",
              "      <td>0.800026</td>\n",
              "    </tr>\n",
              "    <tr>\n",
              "      <th>1859</th>\n",
              "      <td>0.851085</td>\n",
              "      <td>0.892199</td>\n",
              "      <td>0.858326</td>\n",
              "      <td>0.814264</td>\n",
              "    </tr>\n",
              "  </tbody>\n",
              "</table>\n",
              "<p>1860 rows × 4 columns</p>\n",
              "</div>\n",
              "      <button class=\"colab-df-convert\" onclick=\"convertToInteractive('df-27db8050-6ec7-4c99-892d-0815427d9faf')\"\n",
              "              title=\"Convert this dataframe to an interactive table.\"\n",
              "              style=\"display:none;\">\n",
              "        \n",
              "  <svg xmlns=\"http://www.w3.org/2000/svg\" height=\"24px\"viewBox=\"0 0 24 24\"\n",
              "       width=\"24px\">\n",
              "    <path d=\"M0 0h24v24H0V0z\" fill=\"none\"/>\n",
              "    <path d=\"M18.56 5.44l.94 2.06.94-2.06 2.06-.94-2.06-.94-.94-2.06-.94 2.06-2.06.94zm-11 1L8.5 8.5l.94-2.06 2.06-.94-2.06-.94L8.5 2.5l-.94 2.06-2.06.94zm10 10l.94 2.06.94-2.06 2.06-.94-2.06-.94-.94-2.06-.94 2.06-2.06.94z\"/><path d=\"M17.41 7.96l-1.37-1.37c-.4-.4-.92-.59-1.43-.59-.52 0-1.04.2-1.43.59L10.3 9.45l-7.72 7.72c-.78.78-.78 2.05 0 2.83L4 21.41c.39.39.9.59 1.41.59.51 0 1.02-.2 1.41-.59l7.78-7.78 2.81-2.81c.8-.78.8-2.07 0-2.86zM5.41 20L4 18.59l7.72-7.72 1.47 1.35L5.41 20z\"/>\n",
              "  </svg>\n",
              "      </button>\n",
              "      \n",
              "  <style>\n",
              "    .colab-df-container {\n",
              "      display:flex;\n",
              "      flex-wrap:wrap;\n",
              "      gap: 12px;\n",
              "    }\n",
              "\n",
              "    .colab-df-convert {\n",
              "      background-color: #E8F0FE;\n",
              "      border: none;\n",
              "      border-radius: 50%;\n",
              "      cursor: pointer;\n",
              "      display: none;\n",
              "      fill: #1967D2;\n",
              "      height: 32px;\n",
              "      padding: 0 0 0 0;\n",
              "      width: 32px;\n",
              "    }\n",
              "\n",
              "    .colab-df-convert:hover {\n",
              "      background-color: #E2EBFA;\n",
              "      box-shadow: 0px 1px 2px rgba(60, 64, 67, 0.3), 0px 1px 3px 1px rgba(60, 64, 67, 0.15);\n",
              "      fill: #174EA6;\n",
              "    }\n",
              "\n",
              "    [theme=dark] .colab-df-convert {\n",
              "      background-color: #3B4455;\n",
              "      fill: #D2E3FC;\n",
              "    }\n",
              "\n",
              "    [theme=dark] .colab-df-convert:hover {\n",
              "      background-color: #434B5C;\n",
              "      box-shadow: 0px 1px 3px 1px rgba(0, 0, 0, 0.15);\n",
              "      filter: drop-shadow(0px 1px 2px rgba(0, 0, 0, 0.3));\n",
              "      fill: #FFFFFF;\n",
              "    }\n",
              "  </style>\n",
              "\n",
              "      <script>\n",
              "        const buttonEl =\n",
              "          document.querySelector('#df-27db8050-6ec7-4c99-892d-0815427d9faf button.colab-df-convert');\n",
              "        buttonEl.style.display =\n",
              "          google.colab.kernel.accessAllowed ? 'block' : 'none';\n",
              "\n",
              "        async function convertToInteractive(key) {\n",
              "          const element = document.querySelector('#df-27db8050-6ec7-4c99-892d-0815427d9faf');\n",
              "          const dataTable =\n",
              "            await google.colab.kernel.invokeFunction('convertToInteractive',\n",
              "                                                     [key], {});\n",
              "          if (!dataTable) return;\n",
              "\n",
              "          const docLinkHtml = 'Like what you see? Visit the ' +\n",
              "            '<a target=\"_blank\" href=https://colab.research.google.com/notebooks/data_table.ipynb>data table notebook</a>'\n",
              "            + ' to learn more about interactive tables.';\n",
              "          element.innerHTML = '';\n",
              "          dataTable['output_type'] = 'display_data';\n",
              "          await google.colab.output.renderOutput(dataTable, element);\n",
              "          const docLink = document.createElement('div');\n",
              "          docLink.innerHTML = docLinkHtml;\n",
              "          element.appendChild(docLink);\n",
              "        }\n",
              "      </script>\n",
              "    </div>\n",
              "  </div>\n",
              "  "
            ]
          },
          "metadata": {},
          "execution_count": 57
        }
      ]
    }
  ]
}