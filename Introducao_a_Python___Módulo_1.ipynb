{
  "nbformat": 4,
  "nbformat_minor": 0,
  "metadata": {
    "colab": {
      "provenance": []
    },
    "kernelspec": {
      "name": "python3",
      "display_name": "Python 3"
    },
    "language_info": {
      "name": "python"
    }
  },
  "cells": [
    {
      "cell_type": "markdown",
      "source": [
        "### ***Instalação de Bibliotecas via pip ***\n",
        "!pip install nome_da_biblioteca\n",
        "\n",
        "Se quisermos saber o cóigo para instalar uma biblioteca, acessar pypi.org"
      ],
      "metadata": {
        "id": "f4UJSdDFHT0E"
      }
    },
    {
      "cell_type": "code",
      "execution_count": 1,
      "metadata": {
        "colab": {
          "base_uri": "https://localhost:8080/"
        },
        "id": "qqwDKsRECgqO",
        "outputId": "1f2d8741-8f48-408e-c03c-f306c99f208e"
      },
      "outputs": [
        {
          "output_type": "stream",
          "name": "stdout",
          "text": [
            "Looking in indexes: https://pypi.org/simple, https://us-python.pkg.dev/colab-wheels/public/simple/\n",
            "Requirement already satisfied: pandas in /usr/local/lib/python3.10/dist-packages (1.5.3)\n",
            "Requirement already satisfied: python-dateutil>=2.8.1 in /usr/local/lib/python3.10/dist-packages (from pandas) (2.8.2)\n",
            "Requirement already satisfied: pytz>=2020.1 in /usr/local/lib/python3.10/dist-packages (from pandas) (2022.7.1)\n",
            "Requirement already satisfied: numpy>=1.21.0 in /usr/local/lib/python3.10/dist-packages (from pandas) (1.22.4)\n",
            "Requirement already satisfied: six>=1.5 in /usr/local/lib/python3.10/dist-packages (from python-dateutil>=2.8.1->pandas) (1.16.0)\n"
          ]
        }
      ],
      "source": [
        "!pip install pandas"
      ]
    },
    {
      "cell_type": "markdown",
      "source": [
        "### **Principais bibliotecas para análise de dados no Python**\n",
        "\n",
        "**Pandas**: biblioteca de análise e tratamento de dados\n",
        "\n",
        "**Numpy**: biblioteca de computação numérica no Python; oferece uma estrutura vetorial e matricial para dados numéricos\n",
        "\n",
        "O cliclo da análise de dados:\n",
        "\n",
        "1) Importação (csv, xlsx, TXT, Jason, Api)\n",
        "\n",
        "Pandas, requests, sidrapy, ipeadatapy, python-bcb\n",
        "\n",
        "2) Organização (colunas, variáveis, linhas, observações)\n",
        "\n",
        "pandas\n",
        "\n",
        "3) Transformação (novas variáveis, sumarizações, filtros, cruzamentos etc)\n",
        "\n",
        "pandas, numpy, siuba, tidypandas, datatable, polars, tidypolars\n",
        "\n",
        "4) Vizualização (gáficos e tabelas)\n",
        "\n",
        "plotnine, matplotlib, seaborn, pandas, plotly\n",
        "\n",
        "5) Modelagem (Estatística, econometria e machine learning)\n",
        "\n",
        "statsmodels, pymc, bambi, pycaret\n",
        "\n",
        "6) Comunicação (relatórios e dashboards)\n",
        "\n",
        "quarto, ploty dash, gradio, datapane, shiny\n",
        "\n",
        "7) Automatização (agendamento de scripts)\n",
        "\n",
        "GitHub actions"
      ],
      "metadata": {
        "id": "0MCEuB5yKFAl"
      }
    },
    {
      "cell_type": "markdown",
      "source": [
        "### **Regras, boas práticas e estilo**"
      ],
      "metadata": {
        "id": "rS9OaAgHGFpk"
      }
    },
    {
      "cell_type": "code",
      "source": [
        "2+2"
      ],
      "metadata": {
        "colab": {
          "base_uri": "https://localhost:8080/"
        },
        "id": "5Gw9wkqMMUH5",
        "outputId": "1c6fbce1-81df-4145-eb00-35151c1e15e9"
      },
      "execution_count": 1,
      "outputs": [
        {
          "output_type": "execute_result",
          "data": {
            "text/plain": [
              "4"
            ]
          },
          "metadata": {},
          "execution_count": 1
        }
      ]
    },
    {
      "cell_type": "code",
      "source": [
        "#acessando funções dentro de uma bilbioteca:\n",
        "#função de interromper código\n",
        "import time\n",
        "time.sleep(10)\n",
        "\n",
        "#se quisermos acessar uma funcao da biblioteca e ela nao aparecer automaticamente, clicar em Ctrol espacço"
      ],
      "metadata": {
        "id": "Wzyy36AxHyEf"
      },
      "execution_count": 4,
      "outputs": []
    },
    {
      "cell_type": "code",
      "source": [
        "#podemos fazer um comentario junto com um codigo:\n",
        "print(\"oi, tudo bem\") #a funcao print serve para apresentar algo n console"
      ],
      "metadata": {
        "colab": {
          "base_uri": "https://localhost:8080/"
        },
        "id": "_OAHhuoyIy46",
        "outputId": "b9a3a78f-7202-45d4-b998-548347432d2a"
      },
      "execution_count": 7,
      "outputs": [
        {
          "output_type": "stream",
          "name": "stdout",
          "text": [
            "oi, tudo bem\n"
          ]
        }
      ]
    },
    {
      "cell_type": "code",
      "source": [
        "#como estruturar um codigo\n",
        "#importar dados\n",
        "#tratamento de dados\n",
        "#vizualização de dados"
      ],
      "metadata": {
        "id": "E5BIrGGSJ2cg"
      },
      "execution_count": null,
      "outputs": []
    },
    {
      "cell_type": "markdown",
      "source": [
        "### **Objetos no Python**"
      ],
      "metadata": {
        "id": "ALbrVsuUME6E"
      }
    },
    {
      "cell_type": "code",
      "source": [
        "# nome_do_objeto = valor\n",
        "a = 1\n",
        "a1 = \"a\"\n",
        "# nao se pode iniciar o nome do objeto com numeros, nem palavras reservadas (if, import, True, False, None etc)\n",
        "#tb nao se pode criar um nome de objeto com \".\", nem \"espaço\", nem \"-\": por ex. a.a = 1; a b = 1; a-b = 1\n",
        "\n",
        "# o Python diferencia maiusculo e minusculo\n",
        "#no caso abaixo, como atribuiremos o mesmo valor a dois objetos diferentes, isso fará com que consigamos acessar o 1 tanto se colocarmos a, quanto A\n",
        "a = 1\n",
        "A = 1"
      ],
      "metadata": {
        "id": "riidy_84McDP"
      },
      "execution_count": 8,
      "outputs": []
    },
    {
      "cell_type": "code",
      "source": [
        "#para sabermos qual é o tipo de objeto, usamos a funcao type\":\n",
        "w = 1\n",
        "x = \"a\"\n",
        "y = True\n",
        "z = None\n",
        "\n",
        "type(w)"
      ],
      "metadata": {
        "colab": {
          "base_uri": "https://localhost:8080/"
        },
        "id": "JbMDD_qUQQYn",
        "outputId": "1674e7f4-5236-4a16-fb7d-151b19b49176"
      },
      "execution_count": 13,
      "outputs": [
        {
          "output_type": "execute_result",
          "data": {
            "text/plain": [
              "int"
            ]
          },
          "metadata": {},
          "execution_count": 13
        }
      ]
    },
    {
      "cell_type": "code",
      "source": [
        "type(x)"
      ],
      "metadata": {
        "colab": {
          "base_uri": "https://localhost:8080/"
        },
        "id": "fuhQlD6iQ0pU",
        "outputId": "90807e89-6156-4b57-9a09-b1324e4274b8"
      },
      "execution_count": 14,
      "outputs": [
        {
          "output_type": "execute_result",
          "data": {
            "text/plain": [
              "str"
            ]
          },
          "metadata": {},
          "execution_count": 14
        }
      ]
    },
    {
      "cell_type": "code",
      "source": [
        "type(y)"
      ],
      "metadata": {
        "colab": {
          "base_uri": "https://localhost:8080/"
        },
        "id": "dt-qKuB5Q3vL",
        "outputId": "1fb57e4b-02a9-4b98-b28b-ef89579a0efc"
      },
      "execution_count": 15,
      "outputs": [
        {
          "output_type": "execute_result",
          "data": {
            "text/plain": [
              "bool"
            ]
          },
          "metadata": {},
          "execution_count": 15
        }
      ]
    },
    {
      "cell_type": "code",
      "source": [
        "type(z)"
      ],
      "metadata": {
        "colab": {
          "base_uri": "https://localhost:8080/"
        },
        "id": "dQo4h58dQ56u",
        "outputId": "76694de4-1148-494b-b26a-15efa0943ebf"
      },
      "execution_count": 16,
      "outputs": [
        {
          "output_type": "execute_result",
          "data": {
            "text/plain": [
              "NoneType"
            ]
          },
          "metadata": {},
          "execution_count": 16
        }
      ]
    }
  ]
}